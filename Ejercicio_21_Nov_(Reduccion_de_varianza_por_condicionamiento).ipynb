{
  "nbformat": 4,
  "nbformat_minor": 0,
  "metadata": {
    "colab": {
      "provenance": [],
      "authorship_tag": "ABX9TyOhDhR1JP0hswN2ocQvr2Wx",
      "include_colab_link": true
    },
    "kernelspec": {
      "name": "python3",
      "display_name": "Python 3"
    },
    "language_info": {
      "name": "python"
    }
  },
  "cells": [
    {
      "cell_type": "markdown",
      "metadata": {
        "id": "view-in-github",
        "colab_type": "text"
      },
      "source": [
        "<a href=\"https://colab.research.google.com/github/Jair-RM/Simulacion-2-Figols/blob/main/Ejercicio_21_Nov_(Reduccion_de_varianza_por_condicionamiento).ipynb\" target=\"_parent\"><img src=\"https://colab.research.google.com/assets/colab-badge.svg\" alt=\"Open In Colab\"/></a>"
      ]
    },
    {
      "cell_type": "code",
      "execution_count": null,
      "metadata": {
        "id": "awwbiTHq4Tw0"
      },
      "outputs": [],
      "source": [
        "import math\n",
        "from math import log, exp, sqrt, cos, acos, pi, sin, factorial\n",
        "from statistics import mean, stdev, variance, median\n",
        "from scipy.stats import norm, linregress, kstest, gaussian_kde\n",
        "from scipy.optimize import minimize\n",
        "import random as rnd\n",
        "from random import random, gauss, seed\n",
        "import numpy as np\n",
        "from numpy import random\n",
        "import matplotlib.pyplot as plt\n",
        "from time import time\n",
        "from scipy.optimize import minimize\n",
        "from numba import jit\n",
        "\n",
        "from statsmodels.sandbox.stats import runs\n",
        "from scipy.stats import kstest, uniform\n",
        "from statsmodels.stats.diagnostic import acorr_ljungbox\n",
        "# < > ∈ o ∉ | λ\n",
        "#@jit(nopython=True)"
      ]
    },
    {
      "cell_type": "code",
      "source": [
        "from random import expovariate\n",
        "from statistics import mean, variance\n",
        "\n",
        "def I(x,y):\n",
        "  if x+y>1:\n",
        "    return 1\n",
        "  else:\n",
        "    return 0\n",
        "nr=100000\n",
        "l=[]\n",
        "for i in range(nr):\n",
        "  x=expovariate(1)\n",
        "  y=expovariate(2)\n",
        "  l. append(I(x,y))\n",
        "m=mean(l)\n",
        "v=variance(l)\n",
        "print(m,v)"
      ],
      "metadata": {
        "colab": {
          "base_uri": "https://localhost:8080/"
        },
        "id": "KR2x_seo4dWu",
        "outputId": "6779be35-3f67-46bb-965e-a1b96633cf3d"
      },
      "execution_count": 1,
      "outputs": [
        {
          "output_type": "stream",
          "name": "stdout",
          "text": [
            "0.59861 0.24027847068470684\n"
          ]
        }
      ]
    },
    {
      "cell_type": "code",
      "source": [
        "from random import expovariate\n",
        "from statistics import mean, variance, stdev\n",
        "\n",
        "def I(x,y):\n",
        "  if x+y>1:\n",
        "    return 1\n",
        "  else:\n",
        "    return 0\n",
        "nr=100000\n",
        "l=[]\n",
        "for i in range(nr):\n",
        "  x=expovariate(1)\n",
        "  y=expovariate(2)\n",
        "  l. append(I(x,y))\n",
        "m=mean(l)\n",
        "v=variance(l)\n",
        "o=stdev(l)\n",
        "print(m,v, o)"
      ],
      "metadata": {
        "colab": {
          "base_uri": "https://localhost:8080/"
        },
        "id": "3vxNahkx5XSz",
        "outputId": "99e3644d-4a68-4847-8d20-d795db9dde81"
      },
      "execution_count": 4,
      "outputs": [
        {
          "output_type": "stream",
          "name": "stdout",
          "text": [
            "0.59994 0.24001439654396545 0.48991264174745014\n"
          ]
        }
      ]
    },
    {
      "cell_type": "code",
      "source": [
        "from random import expovariate\n",
        "from math import exp\n",
        "from statistics import mean, variance, stdev\n",
        "\n",
        "def I(x,y):\n",
        "  if x+y>1:\n",
        "    return 1\n",
        "  else:\n",
        "    return 0\n",
        "nr=100000\n",
        "l=[]\n",
        "l1=[]\n",
        "for i in range(nr):\n",
        "  x=expovariate(1)\n",
        "  y=expovariate(2)\n",
        "  l. append(I(x,y))\n",
        "  if y>1:\n",
        "    EIY=1\n",
        "  else:\n",
        "    EIY=exp(y-1)\n",
        "  l1.append(EIY)\n",
        "\n",
        "m=mean(l)\n",
        "v=variance(l)\n",
        "m1=mean(l1)\n",
        "v1=variance(l1)\n",
        "o=stdev(l)\n",
        "print(m,v, o)\n",
        "print(m1, v1)\n",
        "print(100*(v - v1)/v, \"%\")"
      ],
      "metadata": {
        "colab": {
          "base_uri": "https://localhost:8080/"
        },
        "id": "FXI3JhcV8TYT",
        "outputId": "6304bbab-d30e-47a4-c42e-f97c38a63aa1"
      },
      "execution_count": 7,
      "outputs": [
        {
          "output_type": "stream",
          "name": "stdout",
          "text": [
            "0.59849 0.2403021229212292 0.49020620449075225\n",
            "0.5999881417287326 0.045490821921976614\n",
            "81.06932166517377 %\n"
          ]
        }
      ]
    }
  ]
}