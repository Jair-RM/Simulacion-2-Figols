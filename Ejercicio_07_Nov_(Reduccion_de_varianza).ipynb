{
  "nbformat": 4,
  "nbformat_minor": 0,
  "metadata": {
    "colab": {
      "provenance": [],
      "authorship_tag": "ABX9TyMWc6lnoFD9bE/2veHA1K9/",
      "include_colab_link": true
    },
    "kernelspec": {
      "name": "python3",
      "display_name": "Python 3"
    },
    "language_info": {
      "name": "python"
    }
  },
  "cells": [
    {
      "cell_type": "markdown",
      "metadata": {
        "id": "view-in-github",
        "colab_type": "text"
      },
      "source": [
        "<a href=\"https://colab.research.google.com/github/Jair-RM/Simulacion-2-Figols/blob/main/Ejercicio_07_Nov_(Reduccion_de_varianza).ipynb\" target=\"_parent\"><img src=\"https://colab.research.google.com/assets/colab-badge.svg\" alt=\"Open In Colab\"/></a>"
      ]
    },
    {
      "cell_type": "code",
      "execution_count": 4,
      "metadata": {
        "colab": {
          "base_uri": "https://localhost:8080/"
        },
        "id": "sLaAvPF5w9AC",
        "outputId": "057114d2-71b6-4146-8128-b392a5a6ce26"
      },
      "outputs": [
        {
          "output_type": "stream",
          "name": "stdout",
          "text": [
            "0.6932321206178303 0.019573293135187582\n",
            "0.6931790577600914 0.0005968628598877387\n",
            "96.95062626526175\n"
          ]
        }
      ],
      "source": [
        "from statistics import mean, variance\n",
        "from random import random\n",
        "lx=[]\n",
        "lz=[]\n",
        "nr=1000000\n",
        "for i in range(nr):\n",
        "  u=random()\n",
        "  x=1/(1+u)\n",
        "  y=1/(2-u)\n",
        "  z=(x+y)/2\n",
        "  lx. append(x)\n",
        "  lz. append(z)\n",
        "ux=mean(lx)\n",
        "uz=mean(lz)\n",
        "vx=variance(lx)\n",
        "vz=variance(lz)\n",
        "print(ux, vx)\n",
        "print(uz, vz)\n",
        "print(100*(vx-vz)/vx)"
      ]
    },
    {
      "cell_type": "code",
      "source": [
        "from statistics import mean, variance\n",
        "from random import random\n",
        "for j in range(2):\n",
        "  lx=[]\n",
        "  lz=[]\n",
        "  nr=1000000\n",
        "  for i in range(nr):\n",
        "    u=random()\n",
        "    x=1/(1+u)\n",
        "    y=1/(2-u)\n",
        "    z=(x+y)/2\n",
        "    lx. append(x)\n",
        "    lz. append(z)\n",
        "  ux=mean(lx)\n",
        "  uz=mean(lz)\n",
        "  vx=variance(lx)\n",
        "  vz=variance(lz)\n",
        "  print(ux, vx)\n",
        "  print(uz, vz)\n",
        "print(100*(vx-vz)/vx)"
      ],
      "metadata": {
        "colab": {
          "base_uri": "https://localhost:8080/"
        },
        "id": "wruSmAzZ8YFc",
        "outputId": "fa2e0555-871f-4626-bb9b-b633df963fc6"
      },
      "execution_count": 6,
      "outputs": [
        {
          "output_type": "stream",
          "name": "stdout",
          "text": [
            "0.6931411264718098 0.01955462594752885\n",
            "0.693163140894722 0.0005958248652209792\n",
            "0.6927233301999558 0.019488835002005534\n",
            "0.6930967140585537 0.0005956942519444708\n",
            "96.94340758755888\n"
          ]
        }
      ]
    },
    {
      "cell_type": "code",
      "source": [
        "from statistics import mean, variance\n",
        "from random import gauss\n",
        "from math import sqrt\n",
        "from numba import jit\n",
        "\n",
        "@jit(nopython=True)\n",
        "def F(x,u,o):\n",
        "  return u*x\n",
        "\n",
        "@jit(nopython=True)\n",
        "def G(x,u,o):\n",
        "  return o*x\n",
        "\n",
        "@jit(nopython=True)\n",
        "def f(x0,u,o,T, delta):\n",
        "  oo=sqrt(delta)\n",
        "  x=x0\n",
        "  y=x0\n",
        "  t=0\n",
        "  while t<T:\n",
        "    w=oo*gauss(0,1)\n",
        "    x=x + F(x,u,o)*delta + G(x,u,o)*w\n",
        "    y=y + F(y,u,o)*delta - G(y,u,o)*w\n",
        "    t=t+delta\n",
        "  return x, (x+y)/2\n",
        "u=0.001\n",
        "o=0.02\n",
        "x0=2\n",
        "\n",
        "delta=0.01\n",
        "T=10\n",
        "nr=1000\n",
        "lx=[]\n",
        "lz=[]\n",
        "for i in range(nr):\n",
        "  x,z=f(x0,u,o,T, delta)\n",
        "  lx.append(x)\n",
        "  lz.append(z)\n",
        "vx=variance(lx)\n",
        "vz=variance(lz)\n",
        "print(vx)\n",
        "print(vz)\n",
        "print((vx-vz)/vx)"
      ],
      "metadata": {
        "colab": {
          "base_uri": "https://localhost:8080/"
        },
        "id": "U3yxPdU-_FlN",
        "outputId": "4076516d-d0e4-4a88-8010-bda5b10c39a7"
      },
      "execution_count": 6,
      "outputs": [
        {
          "output_type": "stream",
          "name": "stdout",
          "text": [
            "0.016001493139746522\n",
            "3.672907263087363e-05\n",
            "0.9977046471657298\n"
          ]
        }
      ]
    }
  ]
}