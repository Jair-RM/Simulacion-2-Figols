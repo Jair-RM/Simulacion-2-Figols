{
  "nbformat": 4,
  "nbformat_minor": 0,
  "metadata": {
    "colab": {
      "provenance": [],
      "authorship_tag": "ABX9TyOJ+qxePLaEHW+aFc/h2y/F",
      "include_colab_link": true
    },
    "kernelspec": {
      "name": "python3",
      "display_name": "Python 3"
    },
    "language_info": {
      "name": "python"
    }
  },
  "cells": [
    {
      "cell_type": "markdown",
      "metadata": {
        "id": "view-in-github",
        "colab_type": "text"
      },
      "source": [
        "<a href=\"https://colab.research.google.com/github/Jair-RM/Simulacion-2-Figols/blob/main/Codigo_Septiembre_26.ipynb\" target=\"_parent\"><img src=\"https://colab.research.google.com/assets/colab-badge.svg\" alt=\"Open In Colab\"/></a>"
      ]
    },
    {
      "cell_type": "code",
      "execution_count": null,
      "metadata": {
        "id": "UkrqNvlDfO6t"
      },
      "outputs": [],
      "source": [
        "import math\n",
        "from math import log, exp, sqrt, cos, acos, pi, sin, factorial\n",
        "from statistics import mean, stdev\n",
        "from scipy.stats import norm\n",
        "import random as rnd\n",
        "from random import random, gauss, seed\n",
        "import numpy as np\n",
        "import matplotlib.pyplot as plt\n",
        "from time import time\n",
        "from numba import jit\n",
        "# < >"
      ]
    },
    {
      "cell_type": "code",
      "source": [
        "@jit(nopython=True)\n",
        "def euler(x1, u, o, c, delta, ns):\n",
        "  oo=sqrt(delta)\n",
        "  l=np.zeros(ns)\n",
        "  for i in range(ns):\n",
        "    x=x1\n",
        "    t=0\n",
        "    while t < 1:\n",
        "      x=x + c*(x+u)*delta*o*oo*gauss(0, 1)\n",
        "      t=t + delta\n",
        "    l[i]=x\n",
        "  return l\n",
        "def f(x, ly, delta, ns):\n",
        "  seed(178341)\n",
        "  u=x[0]\n",
        "  o=x[1]\n",
        "  c=x[2]\n",
        "  suma=0\n",
        "  m=len(ly)\n",
        "  for i in range(m-1):\n",
        "    x1=ly[i]\n",
        "    l=euler(x1, u, o, c, delta, ns)\n",
        "    pdf=gaussian_kde(l)\n",
        "    valor=pdf(ly[i+1])[0]\n",
        "    if valor < 1e-200:\n",
        "      valor= 1e-200\n",
        "    suma=suma + log(valor)\n",
        "  print(\"%10.6f\"%u, \"%10.6f\"%o , \"%10.6f\"%c, \"%10.6f\"%suma)\n",
        "  return -suma\n",
        "ly=np. loadtxt(\"tasas1.txt\")\n",
        "u0=11\n",
        "o0=0.3\n",
        "c0=-0.5\n",
        "delta=0.1\n",
        "ns=1000\n",
        "x0=np. array([u0, o0, c0])\n",
        "re=minimize(f, x0, args=(ly, delta, ns), method=\"Nelder-Mead\")\n",
        "print(re)\n",
        "\n"
      ],
      "metadata": {
        "id": "LKN_aubffgrI"
      },
      "execution_count": null,
      "outputs": []
    },
    {
      "cell_type": "code",
      "source": [],
      "metadata": {
        "id": "ZGd-yG18h1bg"
      },
      "execution_count": null,
      "outputs": []
    }
  ]
}