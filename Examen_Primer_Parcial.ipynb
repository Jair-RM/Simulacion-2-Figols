{
  "nbformat": 4,
  "nbformat_minor": 0,
  "metadata": {
    "colab": {
      "provenance": [],
      "authorship_tag": "ABX9TyOahXK8G7j/hnL5SPZKKHd1",
      "include_colab_link": true
    },
    "kernelspec": {
      "name": "python3",
      "display_name": "Python 3"
    },
    "language_info": {
      "name": "python"
    }
  },
  "cells": [
    {
      "cell_type": "markdown",
      "metadata": {
        "id": "view-in-github",
        "colab_type": "text"
      },
      "source": [
        "<a href=\"https://colab.research.google.com/github/Jair-RM/Simulacion-2-Figols/blob/main/Examen_Primer_Parcial.ipynb\" target=\"_parent\"><img src=\"https://colab.research.google.com/assets/colab-badge.svg\" alt=\"Open In Colab\"/></a>"
      ]
    },
    {
      "cell_type": "code",
      "execution_count": null,
      "metadata": {
        "id": "-zd6RCMwaU0f"
      },
      "outputs": [],
      "source": [
        "# EXAMEN PRIMER PARCIAL"
      ]
    },
    {
      "cell_type": "code",
      "source": [
        "import math\n",
        "from math import log, exp, sqrt, cos, acos, pi, sin, factorial\n",
        "from statistics import mean, stdev, variance\n",
        "from scipy.stats import norm\n",
        "import random as rnd\n",
        "from random import random, gauss\n",
        "import numpy as np\n",
        "import matplotlib.pyplot as plt\n",
        "from time import time\n",
        "from scipy.optimize import minimize\n",
        "#from numba import jit\n",
        "# < > ∈ o ∉ |"
      ],
      "metadata": {
        "id": "84Hi_CnBcZ3v"
      },
      "execution_count": 4,
      "outputs": []
    },
    {
      "cell_type": "code",
      "source": [
        "# 1. Las tasas de interes durane 20 dias consecutivos fueron 2.0, 1.968,\n",
        "#    1.953, 1.946, 1.891, 1.88, 1.93, 1.913, 1.854, 1,877, 1,874, 1.906,\n",
        "#    1.953, 2.013, 2.037, 2.076, 2.135, 2.123, 2.044, 2.029. Usando el\n",
        "#    metodo de maxima veroimilitud ajuste un modelo de Cox-Ingersoll-Ross\n",
        "#    a estos datos (Sugerencia: Use como valores iniciales c=-0.5,\n",
        "#    sigma=0.03, mu=2, delta_T=0.1 y ns=100000)\n",
        "\n",
        "# Datos de las tasas de interés observadas\n",
        "tasas_interes = np.array([2.0, 1.968, 1.953, 1.946, 1.891, 1.88, 1.93, 1.913, 1.854, 1.877,\n",
        "                          1.874, 1.906, 1.953, 2.013, 2.037, 2.076, 2.135, 2.123, 2.044, 2.029])\n",
        "\n",
        "# Valores iniciales sugeridos\n",
        "c_init = -0.5\n",
        "sigma_init = 0.03\n",
        "mu_init = 2\n",
        "delta_T = 0.1\n",
        "\n",
        "# Función de verosimilitud para el modelo CIR\n",
        "def log_verosimilitud(params, tasas, delta_T):\n",
        "    c, sigma, mu = params\n",
        "    n = len(tasas)\n",
        "\n",
        "    # Inicializamos la verosimilitud\n",
        "    log_L = 0\n",
        "\n",
        "    for i in range(1, n):\n",
        "        x_t = tasas[i-1]\n",
        "        x_tp1 = tasas[i]\n",
        "\n",
        "        # Estimamos los parámetros bajo CIR\n",
        "        mu_t = x_t + c * (mu - x_t) * delta_T\n",
        "        sigma_t = sigma * np.sqrt(x_t * delta_T)\n",
        "\n",
        "        # Calculamos la densidad normal\n",
        "        if sigma_t > 0:\n",
        "            log_L += -0.5 * np.log(2 * np.pi * sigma_t**2) - ((x_tp1 - mu_t)**2 / (2 * sigma_t**2))\n",
        "\n",
        "    return -log_L  # Negamos para minimizar\n",
        "\n",
        "# Valores iniciales para los parámetros\n",
        "params_init = [c_init, sigma_init, mu_init]\n",
        "\n",
        "# Optimizamos la función de verosimilitud\n",
        "resultado = minimize(log_verosimilitud, params_init, args=(tasas_interes, delta_T), method='L-BFGS-B')\n",
        "\n",
        "# Parámetros ajustados\n",
        "c_opt, sigma_opt, mu_opt = resultado.x\n",
        "c_opt, sigma_opt, mu_opt\n"
      ],
      "metadata": {
        "colab": {
          "base_uri": "https://localhost:8080/"
        },
        "id": "8qfZs5XkaebV",
        "outputId": "26db5e53-ad70-40d4-cf30-eb3eef6efbdb"
      },
      "execution_count": 9,
      "outputs": [
        {
          "output_type": "execute_result",
          "data": {
            "text/plain": [
              "(-0.4969894793607913, -0.13061694860214224, 1.9952895528477979)"
            ]
          },
          "metadata": {},
          "execution_count": 9
        }
      ]
    },
    {
      "cell_type": "code",
      "source": [
        "# 2a) Usando los resultados obtenidos en el problema anterior, estime la\n",
        "#     probabilidad de que la tasa de interes al siguiente dia del\n",
        "#     correspondiente al ultimo dato sea mayor que 2.05\n",
        "\n",
        "# 2b) estime la prrobabilidad de que al siguiente dia despues del dia al que\n",
        "#     corresponde al ultimo dato, la tasa de interes haya aumentado con\n",
        "#     respecto a la del dia anterior\n",
        "\n",
        "# Última tasa de interés del dato observado\n",
        "X_t = tasas_interes[-1]\n",
        "\n",
        "# Parámetros ajustados del modelo CIR\n",
        "c_opt = -0.497\n",
        "sigma_opt = -0.131\n",
        "mu_opt = 1.995\n",
        "delta_T = 0.1\n",
        "\n",
        "# Número de simulaciones\n",
        "num_simulaciones = 100000\n",
        "\n",
        "# Simulamos las tasas para el siguiente día usando el modelo CIR\n",
        "Z = np.random.randn(num_simulaciones)\n",
        "X_t1 = X_t + c_opt * (mu_opt - X_t) * delta_T + sigma_opt * np.sqrt(X_t * delta_T) * Z\n",
        "\n",
        "# (a) Estimar la probabilidad de que X_t1 > 2.05\n",
        "prob_X_t1_mayor_205 = np.mean(X_t1 > 2.05)\n",
        "\n",
        "# (b) Estimar la probabilidad de que X_t1 > X_t\n",
        "prob_X_t1_mayor_X_t = np.mean(X_t1 > X_t)\n",
        "\n",
        "prob_X_t1_mayor_205, prob_X_t1_mayor_X_t"
      ],
      "metadata": {
        "colab": {
          "base_uri": "https://localhost:8080/"
        },
        "id": "IBWEz39Qf_ga",
        "outputId": "89606f96-d0e2-498e-8c64-184c1b4c7c6a"
      },
      "execution_count": 8,
      "outputs": [
        {
          "output_type": "execute_result",
          "data": {
            "text/plain": [
              "(0.36935, 0.50897)"
            ]
          },
          "metadata": {},
          "execution_count": 8
        }
      ]
    }
  ]
}