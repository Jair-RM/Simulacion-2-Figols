{
  "nbformat": 4,
  "nbformat_minor": 0,
  "metadata": {
    "colab": {
      "provenance": [],
      "authorship_tag": "ABX9TyNhNP2znWmcYt0SKOJgEfYR",
      "include_colab_link": true
    },
    "kernelspec": {
      "name": "python3",
      "display_name": "Python 3"
    },
    "language_info": {
      "name": "python"
    }
  },
  "cells": [
    {
      "cell_type": "markdown",
      "metadata": {
        "id": "view-in-github",
        "colab_type": "text"
      },
      "source": [
        "<a href=\"https://colab.research.google.com/github/Jair-RM/Simulacion-2-Figols/blob/main/Examen_2do_parcial.ipynb\" target=\"_parent\"><img src=\"https://colab.research.google.com/assets/colab-badge.svg\" alt=\"Open In Colab\"/></a>"
      ]
    },
    {
      "cell_type": "markdown",
      "source": [
        "Examen 2do parcial"
      ],
      "metadata": {
        "id": "2Uz6xlsYw46h"
      }
    },
    {
      "cell_type": "markdown",
      "source": [
        "1A) Estime por simulacion el valor de la integral\n",
        "$$\n",
        "\\int_0^1 \\sqrt{1 + x^4} \\, dx\n",
        "$$\n",
        "\n",
        "1B) Use variables antiteticas para redicur la varianza, ¿En que procentaje se redujo la varianza?\n",
        "\n",
        "1C) Use a $$ X^2 $$ como variable de control para reducir la varianza, ¿En que procentaje se redujo la varianza?"
      ],
      "metadata": {
        "id": "XJmh8OsLzLXI"
      }
    },
    {
      "cell_type": "code",
      "execution_count": 6,
      "metadata": {
        "colab": {
          "base_uri": "https://localhost:8080/"
        },
        "id": "DCPJYKVNw4SE",
        "outputId": "cfe635d6-4cb2-475f-d921-be290ed9b284"
      },
      "outputs": [
        {
          "output_type": "stream",
          "name": "stdout",
          "text": [
            "Reducción de la varianza (%): 78.86%\n",
            "Estimación de la integral (estándar): 1.0894015865551743\n"
          ]
        }
      ],
      "source": [
        "from random import random\n",
        "from math import sqrt\n",
        "from statistics import mean, variance\n",
        "\n",
        "def f(x):\n",
        "  return sqrt(1 + x**4)\n",
        "\n",
        "nr = 100000  # Número de simulaciones\n",
        "\n",
        "# Simulación estándar\n",
        "integral = []\n",
        "for i in range(nr):\n",
        "  u = random()\n",
        "  integral.append(f(u))\n",
        "\n",
        "media = mean(integral)\n",
        "varianza = variance(integral)\n",
        "\n",
        "# Simulación con variables antitéticas\n",
        "integral_antitetica = []\n",
        "for j in range(nr):\n",
        "  u = random()\n",
        "  integral_antitetica.append((f(u) + f(1-u))/2)\n",
        "\n",
        "integral_media_antitetica = mean(integral_antitetica)\n",
        "varianza_antitetica = variance(integral_antitetica)\n",
        "reduccion_varianza = 100 * (varianza - varianza_antitetica) / varianza\n",
        "print(f\"Reducción de la varianza (%): {reduccion_varianza:.2f}%\")\n",
        "print(f\"Estimación de la integral (estándar): {media}\")"
      ]
    },
    {
      "cell_type": "markdown",
      "source": [
        "2. Para reducir la varianza en el calculo de la iontegral\n",
        "$$\n",
        "\\int_0^1 \\frac{1}{1 + \\sqrt{x}} \\, dx\n",
        "$$\n",
        "por simulacion de Montecarlo, se quiere usar el metodo de muestreo de importancia, usando la funciion de densidad\n",
        "$$\n",
        "h(x) =\n",
        "\\begin{cases}\n",
        "\\frac{e^{-x/2}}{2(1 - e^{-1/2})} & \\text{si } x \\in [0, 1] \\\\\n",
        "0 & \\text{en otro caso}\n",
        "\\end{cases}\n",
        "$$\n",
        "¿En que porcentaje se reduce la varianza?"
      ],
      "metadata": {
        "id": "mgemndWH0I4o"
      }
    },
    {
      "cell_type": "code",
      "source": [
        "from random import random\n",
        "from math import exp, log, sqrt\n",
        "from statistics import mean, variance\n",
        "\n",
        "def f(z):\n",
        "  if z>0 and z<1:\n",
        "    return 1\n",
        "  else:\n",
        "    return 0\n",
        "\n",
        "def g(z):\n",
        "  if z>0 and z<1:\n",
        "    return 1/(1+sqrt(z))\n",
        "  else:\n",
        "    return 0\n",
        "\n",
        "def h(z):\n",
        "  if z>0 and z<1:\n",
        "    return exp(-z/2)/(2*(1-exp(-1/2)))\n",
        "  else:\n",
        "    return 0\n",
        "\n",
        "l=[]\n",
        "l1=[]\n",
        "nr=100000\n",
        "for i in range(nr):\n",
        "  u=random()\n",
        "  l.append(g(u))\n",
        "  z=-2 * log(1 - u * (1 - exp(-0.5)))\n",
        "  l1.append(g(z)*f(z)/h(z))\n",
        "\n",
        "m=mean(l)\n",
        "v=variance(l)\n",
        "print(m,v)\n",
        "m1=mean(l1)\n",
        "v1=variance(l1)\n",
        "print(m1,v1)\n",
        "print(100*(v-v1)/v)\n",
        "\n"
      ],
      "metadata": {
        "colab": {
          "base_uri": "https://localhost:8080/"
        },
        "id": "aGzoFUgN1DWo",
        "outputId": "67275270-7f68-41a7-c8e6-7080e138fb7f"
      },
      "execution_count": 13,
      "outputs": [
        {
          "output_type": "stream",
          "name": "stdout",
          "text": [
            "0.6132339728882286 0.009536381589879248\n",
            "0.613502141937161 0.000788840508315226\n",
            "91.72809413213493\n"
          ]
        }
      ]
    },
    {
      "cell_type": "code",
      "source": [
        "#####################################\n",
        "from random import random\n",
        "from math import exp, log, sqrt\n",
        "from statistics import mean, variance\n",
        "\n",
        "# Función original de la integral\n",
        "def g(x):\n",
        "    if x > 0 and x < 1:\n",
        "        return 1 / (1 + sqrt(x))\n",
        "    else:\n",
        "        return 0\n",
        "\n",
        "# Función de densidad h(x)\n",
        "def h(x):\n",
        "    if x > 0 and x < 1:\n",
        "        return (exp(-x / 2)) / (2 * (1 - exp(-0.5)))\n",
        "    else:\n",
        "        return 0\n",
        "\n",
        "# Listas para almacenar los resultados\n",
        "valores_montecarlo = []  # Cálculo de Monte Carlo estándar\n",
        "valores_importancia = []  # Cálculo con muestreo de importancia\n",
        "\n",
        "# Número de simulaciones\n",
        "num_simulaciones = 100000\n",
        "\n",
        "# Simulación Monte Carlo estándar\n",
        "for _ in range(num_simulaciones):\n",
        "    u = random()  # Muestra uniforme entre 0 y 1\n",
        "    valores_montecarlo.append(g(u))\n",
        "\n",
        "# Simulación con muestreo de importancia\n",
        "for _ in range(num_simulaciones):\n",
        "    u = random()  # Muestra uniforme entre 0 y 1\n",
        "    x = -2 * log(1 - u *(1 - exp(-0.5)))  # Transformación inversa para h(x)\n",
        "    valores_importancia.append(g(x) / h(x))\n",
        "\n",
        "# Cálculo de medias y varianzas\n",
        "media_mc = mean(valores_montecarlo)\n",
        "varianza_mc = variance(valores_montecarlo)\n",
        "\n",
        "media_mi = mean(valores_importancia)\n",
        "varianza_mi = variance(valores_importancia)\n",
        "\n",
        "# Resultado\n",
        "reduccion_porcentaje = 100 * (varianza_mc - varianza_mi) / varianza_mc\n",
        "\n",
        "# Impresión de resultados\n",
        "print(f\"Media Monte Carlo: {media_mc}\")\n",
        "print(f\"Varianza Monte Carlo: {varianza_mc}\")\n",
        "print(f\"Media Muestreo de Importancia: {media_mi}\")\n",
        "print(f\"Varianza Muestreo de Importancia: {varianza_mi}\")\n",
        "print(f\"Reducción de varianza: {reduccion_porcentaje:.2f}%\")\n"
      ],
      "metadata": {
        "colab": {
          "base_uri": "https://localhost:8080/"
        },
        "id": "pA1j7uea6knd",
        "outputId": "4f4464a0-34ec-4b27-8bd5-3633e58e6980"
      },
      "execution_count": 8,
      "outputs": [
        {
          "output_type": "stream",
          "name": "stdout",
          "text": [
            "Media Monte Carlo: 0.613298770692774\n",
            "Varianza Monte Carlo: 0.00958121133315578\n",
            "Media Muestreo de Importancia: 0.6137641594412537\n",
            "Varianza Muestreo de Importancia: 0.0008082877060752212\n",
            "Reducción de varianza: 91.56%\n"
          ]
        }
      ]
    },
    {
      "cell_type": "markdown",
      "source": [
        "3. Sea X que sigue una distibucion exponencial con parametro 1. Suponga que se quiere estimar por simulacion la probabilidad de que X<a, donde a es positivo y que se pretende reducir la varianza usando a X como variable de control. Calcule analiticamente el porcentaje de reduccion de varianza."
      ],
      "metadata": {
        "id": "TcoIirC-1DgX"
      }
    },
    {
      "cell_type": "code",
      "source": [],
      "metadata": {
        "id": "YWUP_wZy1oA_"
      },
      "execution_count": null,
      "outputs": []
    }
  ]
}