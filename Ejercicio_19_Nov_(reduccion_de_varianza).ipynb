{
  "nbformat": 4,
  "nbformat_minor": 0,
  "metadata": {
    "colab": {
      "provenance": [],
      "authorship_tag": "ABX9TyMzSxsSOnKPY37nlRYAngK7",
      "include_colab_link": true
    },
    "kernelspec": {
      "name": "python3",
      "display_name": "Python 3"
    },
    "language_info": {
      "name": "python"
    }
  },
  "cells": [
    {
      "cell_type": "markdown",
      "metadata": {
        "id": "view-in-github",
        "colab_type": "text"
      },
      "source": [
        "<a href=\"https://colab.research.google.com/github/Jair-RM/Simulacion-2-Figols/blob/main/Ejercicio_19_Nov_(reduccion_de_varianza).ipynb\" target=\"_parent\"><img src=\"https://colab.research.google.com/assets/colab-badge.svg\" alt=\"Open In Colab\"/></a>"
      ]
    },
    {
      "cell_type": "code",
      "execution_count": 4,
      "metadata": {
        "colab": {
          "base_uri": "https://localhost:8080/"
        },
        "id": "Eeul9mu7o7Vb",
        "outputId": "99a0eec0-433d-4add-c826-5d18d17a2bd8"
      },
      "outputs": [
        {
          "output_type": "stream",
          "name": "stdout",
          "text": [
            "0.3413447460685429\n",
            "0.7831640315152321 0.025765411672245643\n",
            "0.7853993271916208 0.002740776501570937\n",
            "89.36257438291473\n"
          ]
        }
      ],
      "source": [
        "from statistics import mean, variance\n",
        "from random import random, gauss\n",
        "from scipy.stats import norm\n",
        "\n",
        "# < > ∈ o ∉ | λ\n",
        "#@jit(nopython=True)\n",
        "\n",
        "def g(x):\n",
        "  return 1/(1+x**2)\n",
        "\n",
        "def f(x):\n",
        "  if x>0 and x<1:\n",
        "    return 1\n",
        "  else:\n",
        "    return 0\n",
        "\n",
        "def h(x,a):\n",
        "  if x>0 and x<1:\n",
        "    return norm.pdf(x,0,1)/a\n",
        "  else:\n",
        "    return 0\n",
        "\n",
        "a=norm.cdf(1,0,1) - 0.5\n",
        "print(a)\n",
        "nr=10000\n",
        "l=[]\n",
        "l1=[]\n",
        "\n",
        "for i in range(nr):\n",
        "  z=random()\n",
        "  l.append(g(z))\n",
        "  z=a*random() + 0.5\n",
        "  z=norm.ppf(z,0,1)\n",
        "  l1.append(g(z)*f(z)/h(z,a))\n",
        "\n",
        "m=mean(l)\n",
        "v=variance(l)\n",
        "print(m,v)\n",
        "m1=mean(l1)\n",
        "v1=variance(l1)\n",
        "print(m1,v1)\n",
        "print(100*(v - v1)/v)\n"
      ]
    },
    {
      "cell_type": "code",
      "source": [
        "from statistics import mean, variance\n",
        "from random import random, gauss\n",
        "from scipy.stats import norm\n",
        "from math import pi\n",
        "\n",
        "# < > ∈ o ∉ | λ\n",
        "#@jit(nopython=True)\n",
        "\n",
        "def g(x):\n",
        "  return 1/(1+x**2)\n",
        "\n",
        "def f(x):\n",
        "  if x>0 and x<1:\n",
        "    return 1\n",
        "  else:\n",
        "    return 0\n",
        "\n",
        "def h(x,a,o):\n",
        "  if x>0 and x<1:\n",
        "    return norm.pdf(x,0,o)/a\n",
        "  else:\n",
        "    return 0\n",
        "o=0.82\n",
        "a=norm.cdf(1,0,o) - 0.5\n",
        "print(a)\n",
        "nr=100000\n",
        "l=[]\n",
        "l1=[]\n",
        "\n",
        "for i in range(nr):\n",
        "  z=random()\n",
        "  l.append(g(z))\n",
        "  z=a*random() + 0.5\n",
        "  z=norm.ppf(z,0,o)\n",
        "  l1.append(g(z)*f(z)/h(z,a,o))\n",
        "\n",
        "m=mean(l)\n",
        "v=variance(l)\n",
        "print(m,pi/4,v)\n",
        "m1=mean(l1)\n",
        "v1=variance(l1)\n",
        "print(m1,pi/4,v1)\n",
        "print(100*(v - v1)/v)"
      ],
      "metadata": {
        "colab": {
          "base_uri": "https://localhost:8080/"
        },
        "id": "SRdmuFrHp8G1",
        "outputId": "378440a0-c8b3-42e5-a21b-53971e19df08"
      },
      "execution_count": 6,
      "outputs": [
        {
          "output_type": "stream",
          "name": "stdout",
          "text": [
            "0.3886750749607466\n",
            "0.7851076272879579 0.7853981633974483 0.025867309003426295\n",
            "0.7853578121707371 0.7853981633974483 0.0002137025535397715\n",
            "99.17385084969037\n"
          ]
        }
      ]
    },
    {
      "cell_type": "code",
      "source": [
        "from statistics import mean, variance\n",
        "from random import random, gauss\n",
        "from scipy.stats import norm\n",
        "from scipy.optimize import minimize_scalar\n",
        "from math import pi\n",
        "\n",
        "# < > ∈ o ∉ | λ\n",
        "#@jit(nopython=True)\n",
        "\n",
        "def g(x):\n",
        "  return 1/(1+x**2)\n",
        "\n",
        "def f(x):\n",
        "  if x>0 and x<1:\n",
        "    return 1\n",
        "  else:\n",
        "    return 0\n",
        "\n",
        "def h(x,a,o):\n",
        "  if x>0 and x<1:\n",
        "    return norm.pdf(x,0,o)/a\n",
        "  else:\n",
        "    return 0\n",
        "\n",
        "def ff(x):\n",
        "  a=norm.cdf(1,0,x) - 0.5\n",
        "  nr=100000\n",
        "  l=[]\n",
        "  l1=[]\n",
        "  for i in range(nr):\n",
        "    z=random()\n",
        "    l.append(g(z))\n",
        "    z=a*random() + 0.5\n",
        "    z=norm.ppf(z,0,x)\n",
        "    l1.append(g(z)*f(z)/h(z,a,x))\n",
        "  v=variance(l)\n",
        "  v1=variance(l1)\n",
        "  print(x, 100*(v - v1)/v)\n",
        "  return -100*(v - v1)/v\n",
        "\n",
        "re=minimize_scalar(ff, bounds=(0.6, 1.3))\n",
        "print(re)"
      ],
      "metadata": {
        "colab": {
          "base_uri": "https://localhost:8080/"
        },
        "id": "EthGOV6WtSTW",
        "outputId": "b00f0d1c-5d72-4a6f-c7d5-c96cb7b1f5f0"
      },
      "execution_count": 7,
      "outputs": [
        {
          "output_type": "stream",
          "name": "stdout",
          "text": [
            "0.8673762078750735 98.41713676448562\n",
            "1.0326237921249264 86.80124734280845\n",
            "0.7652475842498527 96.4115550326797\n",
            "0.8455045152111647 99.02848733139447\n",
            "0.832870909249781 99.18688345874999\n",
            "0.8251544804811463 99.20106842046091\n",
            "0.8272645093474632 99.20996541144721\n",
            "0.8281616241759243 99.20621377219913\n",
            "0.8269643808891929 99.21113607570172\n",
            "0.8262730604495714 99.21143389908922\n",
            "0.8265571714189643 99.21058045527329\n",
            "0.8258458009207678 99.19798609139329\n",
            "0.8261098618315856 99.21019491965642\n",
            "0.8263815811833028 99.20183385755597\n",
            "0.8262107241244179 99.2079015452017\n",
            "0.8263145116813727 99.20916584425052\n",
            "0.8262492500920965 99.20946776010992\n",
            "0.8262888934112439 99.20633937849158\n",
            "0.8262639657023002 99.20272676730211\n",
            "0.8262791081027877 99.20623117472971\n",
            "0.8262695865652329 99.20870064172806\n",
            " message: Solution found.\n",
            " success: True\n",
            "  status: 0\n",
            "     fun: -99.21143389908922\n",
            "       x: 0.8262730604495714\n",
            "     nit: 21\n",
            "    nfev: 21\n"
          ]
        }
      ]
    }
  ]
}