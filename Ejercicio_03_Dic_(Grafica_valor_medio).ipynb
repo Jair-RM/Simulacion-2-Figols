{
  "nbformat": 4,
  "nbformat_minor": 0,
  "metadata": {
    "colab": {
      "provenance": [],
      "authorship_tag": "ABX9TyOz+euKj/a6NUe57DUv8+5R",
      "include_colab_link": true
    },
    "kernelspec": {
      "name": "python3",
      "display_name": "Python 3"
    },
    "language_info": {
      "name": "python"
    }
  },
  "cells": [
    {
      "cell_type": "markdown",
      "metadata": {
        "id": "view-in-github",
        "colab_type": "text"
      },
      "source": [
        "<a href=\"https://colab.research.google.com/github/Jair-RM/Simulacion-2-Figols/blob/main/Ejercicio_03_Dic_(Grafica_valor_medio).ipynb\" target=\"_parent\"><img src=\"https://colab.research.google.com/assets/colab-badge.svg\" alt=\"Open In Colab\"/></a>"
      ]
    },
    {
      "cell_type": "code",
      "execution_count": 2,
      "metadata": {
        "colab": {
          "base_uri": "https://localhost:8080/",
          "height": 447
        },
        "id": "2qhTX3zBrPHj",
        "outputId": "2f1a3b3e-3d15-40cb-dfe6-4715c446dfb8"
      },
      "outputs": [
        {
          "output_type": "stream",
          "name": "stdout",
          "text": [
            "0.5187010054329846\n"
          ]
        },
        {
          "output_type": "display_data",
          "data": {
            "text/plain": [
              "<Figure size 640x480 with 1 Axes>"
            ],
            "image/png": "[encoded data removed]"
          },
          "metadata": {}
        }
      ],
      "source": [
        "from math import log\n",
        "from random import random\n",
        "import matplotlib.pyplot as plt\n",
        "\n",
        "T=10\n",
        "l_l=1               # apha - promedio tiempo de salida\n",
        "l_s=2             # lamnda - promedio de tiempo de llegada\n",
        "t=0\n",
        "infi=1000000000          # cualquier numero mayor al tiempo de simulacion\n",
        "ts=infi     # tiempor en el que ocurrira la prixima salida\n",
        "tl=0        # tiempor en el que ocurrira la prixima llegada\n",
        "l=0\n",
        "lt=[]\n",
        "ll=[]\n",
        "\n",
        "suma=0\n",
        "lc=0\n",
        "while min(tl,ts)<T:\n",
        "  ta=t\n",
        "  lt.append(t)       # lista del tiempo\n",
        "  ll.append(l)       # lista de valores\n",
        "  t=min(tl,ts)\n",
        "  lt.append(t)       # lista del tiempo modificado\n",
        "  ll.append(l)       ## lista de valores\n",
        "  suma=suma+l*(t- ta)\n",
        "  if t==tl:\n",
        "    l=l+1\n",
        "    #print(\"%10.3f\"%tl, l)\n",
        "    tl=t-(1/l_l)*log(random())\n",
        "    if l==1:\n",
        "      ts=t-(1/l_s)*log(random())\n",
        "  else:\n",
        "    l=l-1\n",
        "    #print(\"               \", \"%10.3f\"%ts, l)\n",
        "    if l==0:\n",
        "      ts=infi\n",
        "    else:\n",
        "      ts=t-(1/l_s)*log(random())\n",
        "suma=suma+l*(T- t)\n",
        "vm=suma/T      # Valor medio\n",
        "t=0\n",
        "lx=[]\n",
        "ly=[]\n",
        "while t<T:\n",
        "  lx. append(t)\n",
        "  ly. append(vm)\n",
        "  t=t+ T/100\n",
        "print(vm)\n",
        "plt.plot(lt,ll)\n",
        "plt. plot(lx,ly)\n",
        "plt.show()"
      ]
    },
    {
      "cell_type": "code",
      "source": [
        "from math import log, sqrt\n",
        "from random import random\n",
        "import matplotlib.pyplot as plt\n",
        "from statistics import mean, variance\n",
        "import numpy as np\n",
        "\n",
        "def f():\n",
        "  T=8\n",
        "  l_l=1               # apha - promedio tiempo de salida\n",
        "  l_s=1.2             # lamnda - promedio de tiempo de llegada\n",
        "  t=0\n",
        "  infi=1000000000          # cualquier numero mayor al tiempo de simulacion\n",
        "  ts=infi     # tiempor en el que ocurrira la prixima salida\n",
        "  tl=0        # tiempor en el que ocurrira la prixima llegada\n",
        "  l=0\n",
        "  lt=[]\n",
        "  ll=[]\n",
        "\n",
        "  suma=0\n",
        "  lc=0\n",
        "  while min(tl,ts)<T:\n",
        "    ta=t\n",
        "    lt.append(t)       # lista del tiempo\n",
        "    ll.append(l)       # lista de valores\n",
        "    t=min(tl,ts)\n",
        "    lt.append(t)       # lista del tiempo modificado\n",
        "    ll.append(l)       ## lista de valores\n",
        "    suma=suma+l*(t- ta)\n",
        "    if t==tl:\n",
        "      l=l+1\n",
        "      #print(\"%10.3f\"%tl, l)\n",
        "      tl=t-(1/l_l)*log(random())\n",
        "      if l==1:\n",
        "        ts=t-(1/l_s)*log(random())\n",
        "    else:\n",
        "      l=l-1\n",
        "      #print(\"               \", \"%10.3f\"%ts, l)\n",
        "      if l==0:\n",
        "        ts=infi\n",
        "      else:\n",
        "        ts=t-(1/l_s)*log(random())\n",
        "  suma=suma+l*(T- t)\n",
        "  vm=suma/T      # Valor medio\n",
        "  return vm\n",
        "\n",
        "nr=10000\n",
        "l=[]\n",
        "for i in range(nr):\n",
        "  l. append(f())\n",
        "m=mean(l)\n",
        "v=variance(l)\n",
        "print(m,v)\n",
        "print(np.quantile(l, 0.05), np.quantile(l, 0.95))    # intervalo de confianza\n",
        "print(m-1.65*sqrt(v/nr),m+1.65*sqrt(v/nr))   # intervalo de confianza del valoresperado\n",
        "plt. hist(l, density=1, bins=30, color=\"grey\", edgecolor=\"black\")\n",
        "plt. show()"
      ],
      "metadata": {
        "id": "wCgpS5UA0BaL",
        "outputId": "ebdff7f3-2150-47dd-fbb3-f7bee1ceb67d",
        "colab": {
          "base_uri": "https://localhost:8080/",
          "height": 482
        }
      },
      "execution_count": 12,
      "outputs": [
        {
          "output_type": "stream",
          "name": "stdout",
          "text": [
            "1.6707395403981238 1.580234147094742\n",
            "0.34120487184818005 4.196692823302072\n",
            "1.6499978252678231 1.6914812555284244\n"
          ]
        },
        {
          "output_type": "display_data",
          "data": {
            "text/plain": [
              "<Figure size 640x480 with 1 Axes>"
            ],
            "image/png": "[encoded data removed]"
          },
          "metadata": {}
        }
      ]
    },
    {
      "cell_type": "code",
      "source": [
        "from math import log, sqrt\n",
        "from random import random\n",
        "import matplotlib.pyplot as plt\n",
        "from statistics import mean, variance\n",
        "import numpy as np\n",
        "from numba import jit\n",
        "\n",
        "@jit(nopython=True)\n",
        "def f():\n",
        "  T=60\n",
        "  l_l=1\n",
        "  l_s=1.2\n",
        "  t=0\n",
        "  infi=1000000000\n",
        "  ts=infi\n",
        "  tl=0\n",
        "  l=0\n",
        "  maxi=0\n",
        "  while min(tl,ts)<T:\n",
        "    if l>maxi:\n",
        "      maxi=l\n",
        "    t=min(tl,ts)\n",
        "    if t==tl:\n",
        "      l=l+1\n",
        "      #print(\"%10.3f\"%tl, l)\n",
        "      tl=t-(1/l_l)*log(random())\n",
        "      if l==1:\n",
        "        ts=t-(1/l_s)*log(random())\n",
        "    else:\n",
        "      l=l-1\n",
        "      #print(\"               \", \"%10.3f\"%ts, l)\n",
        "      if l==0:\n",
        "        ts=infi\n",
        "      else:\n",
        "        ts=t-(1/l_s)*log(random())\n",
        "  return maxi\n",
        "\n",
        "nr=10000\n",
        "l=[]\n",
        "for i in range(nr):\n",
        "  l. append(f())\n",
        "m=mean(l)\n",
        "v=variance(l)\n",
        "print(m,v)\n",
        "print(np.quantile(l, 0.05), np.quantile(l, 0.95))    # intervalo de confianza\n",
        "print(m-1.65*sqrt(v/nr),m+1.65*sqrt(v/nr))   # intervalo de confianza del valoresperado\n",
        "plt. hist(l, density=1, bins=30, color=\"grey\", edgecolor=\"black\")\n",
        "plt. show()\n",
        "\n",
        "# < >"
      ],
      "metadata": {
        "id": "M01MuaPx2qoR",
        "outputId": "6e912f18-b976-4358-a396-068ef1afaf8e",
        "colab": {
          "base_uri": "https://localhost:8080/",
          "height": 482
        }
      },
      "execution_count": 13,
      "outputs": [
        {
          "output_type": "stream",
          "name": "stdout",
          "text": [
            "9.517 16.267137713771376\n",
            "5.0 17.0\n",
            "9.450451309234708 9.58354869076529\n"
          ]
        },
        {
          "output_type": "display_data",
          "data": {
            "text/plain": [
              "<Figure size 640x480 with 1 Axes>"
            ],
            "image/png": "[encoded data removed]"
          },
          "metadata": {}
        }
      ]
    }
  ]
}