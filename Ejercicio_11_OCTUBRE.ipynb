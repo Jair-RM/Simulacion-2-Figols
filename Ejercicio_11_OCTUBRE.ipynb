{
  "nbformat": 4,
  "nbformat_minor": 0,
  "metadata": {
    "colab": {
      "provenance": [],
      "authorship_tag": "ABX9TyO4IpevFbNFjgLFED2NFNI9",
      "include_colab_link": true
    },
    "kernelspec": {
      "name": "python3",
      "display_name": "Python 3"
    },
    "language_info": {
      "name": "python"
    }
  },
  "cells": [
    {
      "cell_type": "markdown",
      "metadata": {
        "id": "view-in-github",
        "colab_type": "text"
      },
      "source": [
        "<a href=\"https://colab.research.google.com/github/Jair-RM/Simulacion-2-Figols/blob/main/Ejercicio_11_OCTUBRE.ipynb\" target=\"_parent\"><img src=\"https://colab.research.google.com/assets/colab-badge.svg\" alt=\"Open In Colab\"/></a>"
      ]
    },
    {
      "cell_type": "code",
      "execution_count": 7,
      "metadata": {
        "colab": {
          "base_uri": "https://localhost:8080/",
          "height": 628
        },
        "id": "wAPHVy5Acqyi",
        "outputId": "c68ccfb9-64cf-42f9-fd70-43a48272187b"
      },
      "outputs": [
        {
          "output_type": "display_data",
          "data": {
            "text/plain": [
              "<Figure size 640x480 with 1 Axes>"
            ],
            "image/png": "[encoded data removed]"
          },
          "metadata": {}
        },
        {
          "output_type": "stream",
          "name": "stdout",
          "text": [
            "3.172655170212729\n"
          ]
        },
        {
          "output_type": "error",
          "ename": "NameError",
          "evalue": "name 'va' is not defined",
          "traceback": [
            "\u001b[0;31m---------------------------------------------------------------------------\u001b[0m",
            "\u001b[0;31mNameError\u001b[0m                                 Traceback (most recent call last)",
            "\u001b[0;32m<ipython-input-7-13d83a085893>\u001b[0m in \u001b[0;36m<cell line: 33>\u001b[0;34m()\u001b[0m\n\u001b[1;32m     31\u001b[0m \u001b[0mplt\u001b[0m\u001b[0;34m.\u001b[0m\u001b[0mshow\u001b[0m\u001b[0;34m(\u001b[0m\u001b[0;34m)\u001b[0m\u001b[0;34m\u001b[0m\u001b[0;34m\u001b[0m\u001b[0m\n\u001b[1;32m     32\u001b[0m \u001b[0mprint\u001b[0m\u001b[0;34m(\u001b[0m\u001b[0mvaR\u001b[0m\u001b[0;34m)\u001b[0m\u001b[0;34m\u001b[0m\u001b[0;34m\u001b[0m\u001b[0m\n\u001b[0;32m---> 33\u001b[0;31m \u001b[0mprint\u001b[0m\u001b[0;34m(\u001b[0m\u001b[0mva\u001b[0m\u001b[0;34m(\u001b[0m\u001b[0mp0\u001b[0m\u001b[0;34m,\u001b[0m \u001b[0mu\u001b[0m\u001b[0;34m,\u001b[0m \u001b[0mo\u001b[0m\u001b[0;34m,\u001b[0m\u001b[0mT\u001b[0m\u001b[0;34m)\u001b[0m\u001b[0;34m)\u001b[0m\u001b[0;34m\u001b[0m\u001b[0;34m\u001b[0m\u001b[0m\n\u001b[0m",
            "\u001b[0;31mNameError\u001b[0m: name 'va' is not defined"
          ]
        }
      ],
      "source": [
        "import math\n",
        "from math import log, exp, sqrt, cos, acos, pi, sin, factorial\n",
        "from statistics import mean, stdev, variance\n",
        "from scipy.stats import norm\n",
        "import random as rnd\n",
        "from random import random, gauss\n",
        "import numpy as np\n",
        "import matplotlib.pyplot as plt\n",
        "from time import time\n",
        "from numba import jit\n",
        "@jit(nopython=True)\n",
        "def lost(p0, u, o,T, ns):\n",
        "  l=np.zeros(ns)\n",
        "  raizT=sqrt(T)\n",
        "  for i in range(ns):\n",
        "    p=p0*exp((u-o**2/2)*T+o*raizT*gauss(0,1))\n",
        "    L=p0-p\n",
        "    l[i]=L\n",
        "  return l\n",
        "u=0.0021\n",
        "o=0.0317\n",
        "p0=15\n",
        "T=30\n",
        "ns=100000000\n",
        "l=lost(p0, u, o, T, ns)\n",
        "vaR=np.quantile(l, 0.95)\n",
        "plt.hist(l, bins=100, color=\"grey\", edgecolor=\"black\")\n",
        "plt.scatter([vaR], [0], s=50, color=\"red\")\n",
        "plt.title(\"vaR\"+\"%0.3f\"%vaR)\n",
        "plt.xlim(-15, 10)\n",
        "plt.show()\n",
        "print(vaR)\n",
        "print(va(p0, u, o,T))"
      ]
    },
    {
      "cell_type": "code",
      "source": [],
      "metadata": {
        "id": "zOH2j8w-csaP"
      },
      "execution_count": null,
      "outputs": []
    }
  ]
}