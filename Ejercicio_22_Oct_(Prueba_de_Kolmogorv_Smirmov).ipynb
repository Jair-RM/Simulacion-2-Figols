{
  "nbformat": 4,
  "nbformat_minor": 0,
  "metadata": {
    "colab": {
      "provenance": [],
      "authorship_tag": "ABX9TyNjYrmDZtwMRCu4o2rzzP4J",
      "include_colab_link": true
    },
    "kernelspec": {
      "name": "python3",
      "display_name": "Python 3"
    },
    "language_info": {
      "name": "python"
    }
  },
  "cells": [
    {
      "cell_type": "markdown",
      "metadata": {
        "id": "view-in-github",
        "colab_type": "text"
      },
      "source": [
        "<a href=\"https://colab.research.google.com/github/Jair-RM/Simulacion-2-Figols/blob/main/Ejercicio_22_Oct_(Prueba_de_Kolmogorv_Smirmov).ipynb\" target=\"_parent\"><img src=\"https://colab.research.google.com/assets/colab-badge.svg\" alt=\"Open In Colab\"/></a>"
      ]
    },
    {
      "cell_type": "code",
      "execution_count": null,
      "metadata": {
        "id": "wNn7shVOlJVO"
      },
      "outputs": [],
      "source": [
        "import math\n",
        "from math import log, exp, sqrt, cos, acos, pi, sin, factorial\n",
        "from statistics import mean, stdev, variance\n",
        "from scipy.stats import norm, linregress, kstest\n",
        "import random as rnd\n",
        "from random import random, gauss\n",
        "import numpy as np\n",
        "import matplotlib.pyplot as plt\n",
        "from time import time\n",
        "from scipy.optimize import minimize\n",
        "from numba import jit\n",
        "# < > ∈ o ∉ |\n",
        "#@jit(nopython=True)"
      ]
    },
    {
      "cell_type": "code",
      "source": [
        "n=1000\n",
        "l=[]\n",
        "for i in range(n):\n",
        "  l. append(random())\n",
        "re=kstest(l, \"uniform\", args=(0,1))\n",
        "print(re)\n",
        "print(re[0], re[1])\n",
        "# re[0] valor de D\n",
        "# re[1] p-value"
      ],
      "metadata": {
        "colab": {
          "base_uri": "https://localhost:8080/"
        },
        "id": "SL4tLFgIlOXA",
        "outputId": "061cd950-8d63-4370-96c6-b65c2c0bece7"
      },
      "execution_count": null,
      "outputs": [
        {
          "output_type": "stream",
          "name": "stdout",
          "text": [
            "KstestResult(statistic=0.019153688751755216, pvalue=0.8495833398338466, statistic_location=0.3291536887517552, statistic_sign=-1)\n",
            "0.019153688751755216 0.8495833398338466\n"
          ]
        }
      ]
    },
    {
      "cell_type": "code",
      "source": [
        "n=1000\n",
        "l=[]\n",
        "a=0.1\n",
        "for i in range(n):\n",
        "  l. append(random() + a*gauss(0,1))\n",
        "re=kstest(l, \"uniform\", args=(0,1))\n",
        "print(re)\n",
        "print(re[0], re[1])"
      ],
      "metadata": {
        "colab": {
          "base_uri": "https://localhost:8080/"
        },
        "id": "CFVuV3qymDwa",
        "outputId": "21877661-1fb8-4a54-bdfc-be34ed805154"
      },
      "execution_count": null,
      "outputs": [
        {
          "output_type": "stream",
          "name": "stdout",
          "text": [
            "KstestResult(statistic=0.03600000000000003, pvalue=0.14610676890102825, statistic_location=1.001471708515278, statistic_sign=-1)\n",
            "0.03600000000000003 0.14610676890102825\n"
          ]
        }
      ]
    },
    {
      "cell_type": "code",
      "source": [
        "n=1000\n",
        "l=[]\n",
        "a=0.15\n",
        "for i in range(n):\n",
        "  l. append(random() + a*gauss(0,1))\n",
        "re=kstest(l, \"uniform\", args=(0,1))\n",
        "print(re)\n",
        "print(re[0], re[1])"
      ],
      "metadata": {
        "colab": {
          "base_uri": "https://localhost:8080/"
        },
        "id": "35XcK4ycmOQt",
        "outputId": "6d51f27e-c832-4d4a-c0da-dc7610d82f74"
      },
      "execution_count": null,
      "outputs": [
        {
          "output_type": "stream",
          "name": "stdout",
          "text": [
            "KstestResult(statistic=0.05604142825769393, pvalue=0.0035938796802183824, statistic_location=0.00195857174230607, statistic_sign=1)\n",
            "0.05604142825769393 0.0035938796802183824\n"
          ]
        }
      ]
    },
    {
      "cell_type": "code",
      "source": [
        "n=1000\n",
        "l=[]\n",
        "a=0.15\n",
        "for i in range(n):\n",
        "  l. append(random() + a*gauss(0,1))\n",
        "re=kstest(l, \"uniform\", args=(0,1))\n",
        "print(re)\n",
        "print(re[0], re[1])"
      ],
      "metadata": {
        "colab": {
          "base_uri": "https://localhost:8080/"
        },
        "id": "XM48NcDAmRXA",
        "outputId": "f14b914b-925c-407d-a4d8-df5a43f88f3a"
      },
      "execution_count": null,
      "outputs": [
        {
          "output_type": "stream",
          "name": "stdout",
          "text": [
            "KstestResult(statistic=0.0652742992514497, pvalue=0.0003789600326066654, statistic_location=0.005725700748550291, statistic_sign=1)\n",
            "0.0652742992514497 0.0003789600326066654\n"
          ]
        }
      ]
    },
    {
      "cell_type": "markdown",
      "source": [
        "con \"a\" muy pequeña, no lo deteccta"
      ],
      "metadata": {
        "id": "UrWK05hPmT2N"
      }
    },
    {
      "cell_type": "code",
      "source": [
        "n=10\n",
        "l=[]\n",
        "for i in range(n):\n",
        "  l. append(random())\n",
        "re=kstest(l, \"uniform\", args=(0,1))\n",
        "print(re)\n",
        "print(re[0], re[1])"
      ],
      "metadata": {
        "colab": {
          "base_uri": "https://localhost:8080/"
        },
        "id": "nrZjwjSomh0I",
        "outputId": "bc3e1a39-c1b9-494c-d971-5310662b210c"
      },
      "execution_count": null,
      "outputs": [
        {
          "output_type": "stream",
          "name": "stdout",
          "text": [
            "KstestResult(statistic=0.16909461653634061, pvalue=0.8934745950666824, statistic_location=0.16909461653634061, statistic_sign=-1)\n",
            "0.16909461653634061 0.8934745950666824\n"
          ]
        }
      ]
    },
    {
      "cell_type": "markdown",
      "source": [
        "Normalmente con una muestra pequeña hay problemas"
      ],
      "metadata": {
        "id": "7NP1TRArmk_f"
      }
    }
  ]
}