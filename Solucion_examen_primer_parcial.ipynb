{
  "nbformat": 4,
  "nbformat_minor": 0,
  "metadata": {
    "colab": {
      "provenance": [],
      "authorship_tag": "ABX9TyPBuFESdFGF5XY5/hBs8GWZ",
      "include_colab_link": true
    },
    "kernelspec": {
      "name": "python3",
      "display_name": "Python 3"
    },
    "language_info": {
      "name": "python"
    }
  },
  "cells": [
    {
      "cell_type": "markdown",
      "metadata": {
        "id": "view-in-github",
        "colab_type": "text"
      },
      "source": [
        "<a href=\"https://colab.research.google.com/github/Jair-RM/Simulacion-2-Figols/blob/main/Solucion_examen_primer_parcial.ipynb\" target=\"_parent\"><img src=\"https://colab.research.google.com/assets/colab-badge.svg\" alt=\"Open In Colab\"/></a>"
      ]
    },
    {
      "cell_type": "code",
      "execution_count": null,
      "metadata": {
        "id": "ZZg1uONCRx5H"
      },
      "outputs": [],
      "source": [
        "##Exaneb 04/10/2024\n",
        "import matplotlib.pyplot as plt\n",
        "from scipy.stats import gaussian_kde\n",
        "from scipy.optimize import minimize\n",
        "from random import gauss, seed\n",
        "from math import sqrt, log\n",
        "import numpy as np\n",
        "from numba import jit\n",
        "@jit(nopython=True)\n",
        "def euler(x1, u, o, c, delta, ns):\n",
        "  oo=sqrt(delta)\n",
        "  l=np.zeros(ns)\n",
        "  for i in range(ns):\n",
        "    z=x1\n",
        "    t=0\n",
        "    while t < 1:\n",
        "      z=z+c*(z-u)*delta+o*oo*sqrt(z)*gauss(0,1)\n",
        "      t=t+delta\n",
        "    l[i]=z\n",
        "  return l\n",
        "def f(x, ly, delta, ns):\n",
        "  seed(178341)   ##el numero de adentro es igual, no importa\n",
        "  u=x[0]\n",
        "  o=x[1]\n",
        "  c=x[2]\n",
        "  suma=0\n",
        "  m=len(ly)\n",
        "  for i in range(m-1):\n",
        "    x1=ly[1]\n",
        "    l=euler(x1, u, o, c, delta, ns)\n",
        "    pdf=gaussian_kde(l)\n",
        "    valor=pdf(ly[i+1])[0]\n",
        "    if valor < 1e-200:\n",
        "      valor = 1e-200\n",
        "    suma=suma+log(valor)\n",
        "  print(\"%10.6f\"%u, \"%10.6f\"%o, \"%10.6f\"%c, \"%10.6f\"%suma)\n",
        "  return -suma\n",
        "ly=[2.0, 1.968, 1.953, 1.946, 1.891, 1.88, 1.93, 1,913, 1,854, 1.877, 1.874, 1.906, 1.953, 2.013, 2.037, 2.076,  2.135, 2.123, 2.044, 2.029]\n",
        "u0=2\n",
        "o0=0.03\n",
        "\n",
        "\n",
        "\n",
        "\n",
        "x0=np. array([])"
      ]
    }
  ]
}