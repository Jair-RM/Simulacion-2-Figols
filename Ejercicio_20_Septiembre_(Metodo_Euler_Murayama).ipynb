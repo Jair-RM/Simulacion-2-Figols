{
  "nbformat": 4,
  "nbformat_minor": 0,
  "metadata": {
    "colab": {
      "provenance": [],
      "authorship_tag": "ABX9TyOTnJUgOI7AnV/66u+tUrbg",
      "include_colab_link": true
    },
    "kernelspec": {
      "name": "python3",
      "display_name": "Python 3"
    },
    "language_info": {
      "name": "python"
    }
  },
  "cells": [
    {
      "cell_type": "markdown",
      "metadata": {
        "id": "view-in-github",
        "colab_type": "text"
      },
      "source": [
        "<a href=\"https://colab.research.google.com/github/Jair-RM/Simulacion-2-Figols/blob/main/Ejercicio_20_Septiembre_(Metodo_Euler_Murayama).ipynb\" target=\"_parent\"><img src=\"https://colab.research.google.com/assets/colab-badge.svg\" alt=\"Open In Colab\"/></a>"
      ]
    },
    {
      "cell_type": "code",
      "execution_count": 1,
      "metadata": {
        "id": "wC_Z0R8SSNdC"
      },
      "outputs": [],
      "source": [
        "# a) Usando el metodo de Euler-Murayama simule un millon de valores para Xs donde Xt cumple con la ecuacion:\n",
        "#            dXt = M*Xt*dt + Sigma*Xt*dWt\n",
        "# con M=0.007, Sigma=0.006, X0=10 y use Delta t=0.01\n",
        "# Construya un histograma con los valores simulados\n",
        "# ¿Que distribucion siguen? ¿Por que?"
      ]
    },
    {
      "cell_type": "code",
      "source": [
        "import math\n",
        "from math import log, exp, sqrt, cos, acos, pi, sin, factorial\n",
        "from statistics import mean, stdev\n",
        "from scipy.stats import norm\n",
        "import random as rnd\n",
        "from random import random, gauss\n",
        "import numpy as np\n",
        "import matplotlib.pyplot as plt\n",
        "from time import time\n",
        "from numba import jit"
      ],
      "metadata": {
        "id": "yuKBPeOjSdUL"
      },
      "execution_count": 13,
      "outputs": []
    },
    {
      "cell_type": "code",
      "source": [
        "# Codigo profesor\n",
        "\n",
        "@jit(nopython=True)\n",
        "def euler(x0, u, o, delta, nr, T):\n",
        "  l=np.zeros(nr)\n",
        "  oo=sqrt(delta)\n",
        "  for i in range(nr):\n",
        "    x=x0\n",
        "    t=0\n",
        "    while t<T:\n",
        "      x=x+u*x*delta+o*x*oo*gauss(0,1)\n",
        "      t=t+delta\n",
        "    l[i]=x\n",
        "  return l\n",
        "\n",
        "u=0.007\n",
        "o=0.06\n",
        "x00=10\n",
        "delta=0.01\n",
        "T=5\n",
        "nr=1000000\n",
        "l=euler(x00, u, o, delta, nr, T)\n",
        "x2=np.max(l)\n",
        "x1=min(l)\n",
        "x=x1\n",
        "b=[]\n",
        "while x<x2:\n",
        "  b.append(x)\n",
        "  x=x+(x2-x1)/100\n",
        "\n",
        "\n",
        "plt.figure(figsize=(5,3))\n",
        "plt.hist(l, density=1, bins=b, color=\"grey\", edgecolor=\"black\")\n",
        "plt.show()"
      ],
      "metadata": {
        "colab": {
          "base_uri": "https://localhost:8080/",
          "height": 291
        },
        "id": "g2E49AMdYXbj",
        "outputId": "7aa89989-2ef7-4919-c76f-07b0b15555a2"
      },
      "execution_count": 16,
      "outputs": [
        {
          "output_type": "display_data",
          "data": {
            "text/plain": [
              "<Figure size 500x300 with 1 Axes>"
            ],
            "image/png": "[encoded data removed]"
          },
          "metadata": {}
        }
      ]
    },
    {
      "cell_type": "code",
      "source": [
        "# Codigo profesor\n",
        "\n",
        "@jit(nopython=True)\n",
        "def euler(x0, u, o, delta, nr, T):\n",
        "  l=np.zeros(nr)\n",
        "  oo=sqrt(delta)\n",
        "  for i in range(nr):\n",
        "    x=x0\n",
        "    t=0\n",
        "    while t<T:\n",
        "      x=x+u*x*delta+o*x*oo*gauss(0,1)\n",
        "      t=t+delta\n",
        "    l[i]=x\n",
        "  return l\n",
        "\n",
        "u=0.007\n",
        "o=0.06\n",
        "x00=10\n",
        "delta=0.01\n",
        "T=5\n",
        "nr=1000000\n",
        "l=euler(x00, u, o, delta, nr, T)\n",
        "x2=np.max(l)\n",
        "x1=min(l)\n",
        "x=x1\n",
        "b=[]\n",
        "while x<x2:\n",
        "  b.append(x)\n",
        "  x=x+(x2-x1)/100\n",
        "par=lognorm.fit(l)\n",
        "print(par)\n",
        "s=par[0]\n",
        "loc=par[1]\n",
        "scale=par[2]\n",
        "par1=norm.fit(l)\n",
        "u=par1[0]\n",
        "o=par1[1]\n",
        "ks=kstest(l, \"norm\", arg=(u,o))\n",
        "print(ks)\n",
        "ks1=kstest(l, \"lognorm\", arg(s, loc, scale))\n",
        "print(ks1)\n",
        "lt=[]\n",
        "ltn=[]\n",
        "for x in b:\n",
        "  lt.append(lognorm.pdf(x,s,loc,scale))\n",
        "  ltn.append(norm.pdf(x,u,o))\n",
        "\n",
        "#plt.figure(figsize=(5,3))\n",
        "\n",
        "plt.hist(l, density=1, bins=b, color=\"grey\", edgecolor=\"black\", label=\"Datos\")\n",
        "plt.plot(b, lt, color=\"red\", lw=2,label=\"lognormal\")\n",
        "plt.plot(b, ltn, color=\"blue\", lw=2, label=\"normal\")\n",
        "plt.show()"
      ],
      "metadata": {
        "colab": {
          "base_uri": "https://localhost:8080/",
          "height": 211
        },
        "id": "eO9OfWDGfgDC",
        "outputId": "c2f72e46-7dfc-4001-c2f3-fa1ff01f3f71"
      },
      "execution_count": 17,
      "outputs": [
        {
          "output_type": "error",
          "ename": "NameError",
          "evalue": "name 'lognorm' is not defined",
          "traceback": [
            "\u001b[0;31m---------------------------------------------------------------------------\u001b[0m",
            "\u001b[0;31mNameError\u001b[0m                                 Traceback (most recent call last)",
            "\u001b[0;32m<ipython-input-17-33f21c4a0acb>\u001b[0m in \u001b[0;36m<cell line: 30>\u001b[0;34m()\u001b[0m\n\u001b[1;32m     28\u001b[0m   \u001b[0mb\u001b[0m\u001b[0;34m.\u001b[0m\u001b[0mappend\u001b[0m\u001b[0;34m(\u001b[0m\u001b[0mx\u001b[0m\u001b[0;34m)\u001b[0m\u001b[0;34m\u001b[0m\u001b[0;34m\u001b[0m\u001b[0m\n\u001b[1;32m     29\u001b[0m   \u001b[0mx\u001b[0m\u001b[0;34m=\u001b[0m\u001b[0mx\u001b[0m\u001b[0;34m+\u001b[0m\u001b[0;34m(\u001b[0m\u001b[0mx2\u001b[0m\u001b[0;34m-\u001b[0m\u001b[0mx1\u001b[0m\u001b[0;34m)\u001b[0m\u001b[0;34m/\u001b[0m\u001b[0;36m100\u001b[0m\u001b[0;34m\u001b[0m\u001b[0;34m\u001b[0m\u001b[0m\n\u001b[0;32m---> 30\u001b[0;31m \u001b[0mpar\u001b[0m\u001b[0;34m=\u001b[0m\u001b[0mlognorm\u001b[0m\u001b[0;34m.\u001b[0m\u001b[0mfit\u001b[0m\u001b[0;34m(\u001b[0m\u001b[0ml\u001b[0m\u001b[0;34m)\u001b[0m\u001b[0;34m\u001b[0m\u001b[0;34m\u001b[0m\u001b[0m\n\u001b[0m\u001b[1;32m     31\u001b[0m \u001b[0mprint\u001b[0m\u001b[0;34m(\u001b[0m\u001b[0mpar\u001b[0m\u001b[0;34m)\u001b[0m\u001b[0;34m\u001b[0m\u001b[0;34m\u001b[0m\u001b[0m\n\u001b[1;32m     32\u001b[0m \u001b[0ms\u001b[0m\u001b[0;34m=\u001b[0m\u001b[0mpar\u001b[0m\u001b[0;34m[\u001b[0m\u001b[0;36m0\u001b[0m\u001b[0;34m]\u001b[0m\u001b[0;34m\u001b[0m\u001b[0;34m\u001b[0m\u001b[0m\n",
            "\u001b[0;31mNameError\u001b[0m: name 'lognorm' is not defined"
          ]
        }
      ]
    }
  ]
}