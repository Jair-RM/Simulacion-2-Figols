{
  "nbformat": 4,
  "nbformat_minor": 0,
  "metadata": {
    "colab": {
      "provenance": [],
      "authorship_tag": "ABX9TyNC2WIO8iYQN+/vF8BH2xNn",
      "include_colab_link": true
    },
    "kernelspec": {
      "name": "python3",
      "display_name": "Python 3"
    },
    "language_info": {
      "name": "python"
    }
  },
  "cells": [
    {
      "cell_type": "markdown",
      "metadata": {
        "id": "view-in-github",
        "colab_type": "text"
      },
      "source": [
        "<a href=\"https://colab.research.google.com/github/Jair-RM/Simulacion-2-Figols/blob/main/Ejercicio_12_Nov_(Reduccion_de_varianza).ipynb\" target=\"_parent\"><img src=\"https://colab.research.google.com/assets/colab-badge.svg\" alt=\"Open In Colab\"/></a>"
      ]
    },
    {
      "cell_type": "code",
      "execution_count": 4,
      "metadata": {
        "colab": {
          "base_uri": "https://localhost:8080/"
        },
        "id": "CwEInRJfrfCT",
        "outputId": "7346d3b4-9db7-4917-b3c8-644cfb23e1b2"
      },
      "outputs": [
        {
          "output_type": "stream",
          "name": "stdout",
          "text": [
            "96.8546081210658\n"
          ]
        }
      ],
      "source": [
        "from random import random\n",
        "from scipy.stats import pearsonr\n",
        "lx=[]\n",
        "ly=[]\n",
        "nr=1000000\n",
        "for i in range(nr):\n",
        "  u=random()\n",
        "  x=1/(1+u)\n",
        "  y=u\n",
        "  lx. append(x)\n",
        "  ly. append(y)\n",
        "r=pearsonr(lx, ly)[0]\n",
        "print(100*r**2)"
      ]
    },
    {
      "cell_type": "code",
      "source": [
        "from random import random\n",
        "from scipy.stats import pearsonr\n",
        "from math import sqrt\n",
        "def f(x):\n",
        "  return sqrt(x)\n",
        "lx=[]\n",
        "ly=[]\n",
        "nr=1000000\n",
        "for i in range(nr):\n",
        "  u=random()\n",
        "  x=1/(1+u)\n",
        "  y=f(u)\n",
        "  lx. append(x)\n",
        "  ly. append(y)\n",
        "r=pearsonr(lx, ly)[0]\n",
        "print(100*r**2)"
      ],
      "metadata": {
        "colab": {
          "base_uri": "https://localhost:8080/"
        },
        "id": "D37ABWI-sCaQ",
        "outputId": "615c1a40-1cba-4b60-c88f-fc63c5720370"
      },
      "execution_count": 7,
      "outputs": [
        {
          "output_type": "stream",
          "name": "stdout",
          "text": [
            "99.63825716967621\n"
          ]
        }
      ]
    },
    {
      "cell_type": "code",
      "source": [
        "from random import random\n",
        "from scipy.stats import pearsonr\n",
        "from math import sqrt\n",
        "from numpy import cov\n",
        "from statistics import mean, variance\n",
        "\n",
        "def f(x):\n",
        "  return sqrt(x)\n",
        "lx=[]\n",
        "ly=[]\n",
        "nr=1000000\n",
        "for i in range(nr):\n",
        "  u=random()\n",
        "  x=1/(1+u)\n",
        "  y=f(u)\n",
        "  lx. append(x)\n",
        "  ly. append(y)\n",
        "r=pearsonr(lx, ly)[0]\n",
        "print(100*r**2)\n",
        "co=cov(lx, ly)\n",
        "co1=co[0,1]\n",
        "print(co, co1)\n",
        "alpha=- co1/co[0,1]\n",
        "print(alpha)\n"
      ],
      "metadata": {
        "colab": {
          "base_uri": "https://localhost:8080/"
        },
        "id": "MNapEMkDs9GQ",
        "outputId": "4dc9a1b3-60c0-4d0f-c8f0-0abc8b8761ff"
      },
      "execution_count": 9,
      "outputs": [
        {
          "output_type": "stream",
          "name": "stdout",
          "text": [
            "99.64296120290334\n",
            "[[ 0.01952656 -0.03285342]\n",
            " [-0.03285342  0.05547389]] -0.03285341541614164\n",
            "-1.0\n"
          ]
        }
      ]
    },
    {
      "cell_type": "code",
      "source": [
        "from random import random\n",
        "from scipy.stats import pearsonr\n",
        "from math import sqrt, log\n",
        "from numpy import cov\n",
        "from statistics import mean, variance\n",
        "\n",
        "def f(x):\n",
        "  return sqrt(x)\n",
        "lx=[]\n",
        "ly=[]\n",
        "nr=1000000\n",
        "for i in range(nr):\n",
        "  u=random()\n",
        "  x=1/(1+u)\n",
        "  y=f(u)\n",
        "  lx. append(x)\n",
        "  ly. append(y)\n",
        "r=pearsonr(lx, ly)[0]\n",
        "print(100*r**2)\n",
        "co=cov(lx, ly)\n",
        "co1=co[0,1]\n",
        "print(co, co1)\n",
        "alpha=- co1/co[0,1]\n",
        "print(alpha)\n",
        "lz=[]\n",
        "for i in range(nr):\n",
        "  lz.append(lx[i] + alpha*(ly[i] - 2/3))\n",
        "mx=mean(lx)\n",
        "mz=mean(lz)\n",
        "vx=variance(lx)\n",
        "vz=variance(lz)\n",
        "print(mx, mz, log(2))\n",
        "print(vx, vz, 100*(vz - vz)/vx)"
      ],
      "metadata": {
        "colab": {
          "base_uri": "https://localhost:8080/"
        },
        "id": "76sARU_jtk_Y",
        "outputId": "630e9b8c-65dd-40da-8e1f-b9543d3e2eec"
      },
      "execution_count": 10,
      "outputs": [
        {
          "output_type": "stream",
          "name": "stdout",
          "text": [
            "99.63982819428958\n",
            "[[ 0.01951794 -0.03284476]\n",
            " [-0.03284476  0.05547092]] -0.032844764635252\n",
            "-1.0\n",
            "0.6930036985408069 0.6927589649247239 0.6931471805599453\n",
            "0.019517939678681585 0.14067838867257612 0.0\n"
          ]
        }
      ]
    }
  ]
}