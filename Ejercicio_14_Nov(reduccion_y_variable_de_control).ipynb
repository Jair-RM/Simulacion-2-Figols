{
  "nbformat": 4,
  "nbformat_minor": 0,
  "metadata": {
    "colab": {
      "provenance": [],
      "authorship_tag": "ABX9TyNbHixDPv1x2w9Vd7g3paVV",
      "include_colab_link": true
    },
    "kernelspec": {
      "name": "python3",
      "display_name": "Python 3"
    },
    "language_info": {
      "name": "python"
    }
  },
  "cells": [
    {
      "cell_type": "markdown",
      "metadata": {
        "id": "view-in-github",
        "colab_type": "text"
      },
      "source": [
        "<a href=\"https://colab.research.google.com/github/Jair-RM/Simulacion-2-Figols/blob/main/Ejercicio_14_Nov(reduccion_y_variable_de_control).ipynb\" target=\"_parent\"><img src=\"https://colab.research.google.com/assets/colab-badge.svg\" alt=\"Open In Colab\"/></a>"
      ]
    },
    {
      "cell_type": "code",
      "execution_count": 2,
      "metadata": {
        "colab": {
          "base_uri": "https://localhost:8080/"
        },
        "id": "n3lpuzyi04jv",
        "outputId": "25dc2533-0062-409b-9ded-9574f654a89b"
      },
      "outputs": [
        {
          "output_type": "stream",
          "name": "stdout",
          "text": [
            "2.944868163769563\n",
            "2.944868163769563 2.945406425932142 0.018277971462408383\n"
          ]
        }
      ],
      "source": [
        "from math import log, exp, sqrt\n",
        "from scipy.stats import norm\n",
        "from random import gauss\n",
        "from numba import jit\n",
        "\n",
        "# < > ∈ o ∉ | λ\n",
        "#@jit(nopython=True)\n",
        "\n",
        "def N(x):\n",
        "  return norm.cdf(x,0,1)\n",
        "def bc(s0, k,r,o,t):\n",
        "  d1=(log(s0/k)+(r+o**2/2)*t)/(o*sqrt(t))\n",
        "  d2=d1 - o*sqrt(t)\n",
        "  return s0*N(d1) - k*exp(-r*t)*N(d2)\n",
        "\n",
        "@jit(nopython=True)\n",
        "def bc_n(s0,k,r,o,t,ns):\n",
        "  suma=0\n",
        "  #ns=10000000\n",
        "  for i in range(ns):\n",
        "    n=gauss(0,1)\n",
        "    s=s0*exp((r - o**2/2)*t + o*sqrt(t)*n)\n",
        "    if s>k:\n",
        "      suma=suma+s - k\n",
        "  sim=exp(-r*t)*suma/ns\n",
        "  return sim\n",
        "s0=100\n",
        "k=102\n",
        "t=10\n",
        "o=0.03\n",
        "r=0.0001\n",
        "b=bc(s0, k,r,o,t)\n",
        "print(b)\n",
        "ns=100000000\n",
        "sim=bc_n(s0,k,r,o,t,ns)\n",
        "print(b, sim, 100*(sim-b)/b)         # tercero, error porcentual"
      ]
    },
    {
      "cell_type": "code",
      "source": [
        "from math import log, exp, sqrt\n",
        "from scipy.stats import norm, pearsonr\n",
        "from statistics import mean, variance\n",
        "from random import gauss\n",
        "from numba import jit\n",
        "\n",
        "# < > ∈ o ∉ | λ\n",
        "#@jit(nopython=True)\n",
        "\n",
        "@jit(nopython=True)\n",
        "def bc_n(s0,k,r,o,t,ns):\n",
        "  l=[]\n",
        "  l1=[]\n",
        "  for i in range(ns):\n",
        "    n=gauss(0,1)\n",
        "    s=s0*exp((r - o**2/2)*t + o*sqrt(t)*n)\n",
        "    s1=s0*exp((r - o**2/2)*t - o*sqrt(t)*n)\n",
        "    if s>k:\n",
        "      g=s -k\n",
        "    else:\n",
        "      g=0\n",
        "    if s1>k:\n",
        "      g1=s1 - k\n",
        "    else:\n",
        "      g1=0\n",
        "    l. append(exp(-r*t)*g)\n",
        "    l1. append(exp(-r*t)*(g+g1)/2)\n",
        "  return l, l1\n",
        "s0=100\n",
        "k=102\n",
        "t=10\n",
        "o=0.03\n",
        "r=0.0001\n",
        "ns=100000000\n",
        "l, l1=bc_n(s0,k,r,o,t,ns)\n",
        "m=mean(l)\n",
        "m1=mean(l1)\n",
        "v=variance(l)\n",
        "v1=variance(l1)\n",
        "print(m, m1)\n",
        "print(v, v1, 100*(v - v1)/v)"
      ],
      "metadata": {
        "id": "7_OZd5OX67NB",
        "outputId": "db126df3-df78-494c-9c1c-193ca81eb771",
        "colab": {
          "base_uri": "https://localhost:8080/"
        }
      },
      "execution_count": 2,
      "outputs": [
        {
          "output_type": "stream",
          "name": "stdout",
          "text": [
            "2.9450394570906844 2.9447988681499555\n",
            "27.222162917380132 9.277356027553118 65.9198423883139\n"
          ]
        }
      ]
    },
    {
      "cell_type": "code",
      "source": [
        "from math import log, exp, sqrt\n",
        "from scipy.stats import norm, pearsonr\n",
        "from statistics import mean, variance\n",
        "from random import gauss\n",
        "from numba import jit\n",
        "\n",
        "# < > ∈ o ∉ | λ\n",
        "#@jit(nopython=True)\n",
        "\n",
        "@jit(nopython=True)\n",
        "def sg(x):\n",
        "  if x>0:\n",
        "    return 1\n",
        "  elif x==0:\n",
        "    return 0\n",
        "  else:\n",
        "    return -1\n",
        "\n",
        "@jit(nopython=True)\n",
        "def bc_n(s0,k,r,o,t,ns):\n",
        "  l=[]\n",
        "  l1=[]\n",
        "  for i in range(ns):\n",
        "    g=gauss(0,1)\n",
        "    s=s0*exp((r - o**2/2)*t + o*sqrt(t)*g)\n",
        "    if s>k:\n",
        "      l.append(exp(-r*t)*(s-k))\n",
        "    else:\n",
        "      l.append(0)\n",
        "    l1. append(exp(g))\n",
        "  return l, l1\n",
        "s0=100\n",
        "k=102\n",
        "t=10\n",
        "o=0.03\n",
        "r=0.0001\n",
        "ns=100000\n",
        "l, l1=bc_n(s0,k,r,o,t,ns)\n",
        "m=mean(l)\n",
        "v=variance(l)\n",
        "print(m, v)\n",
        "r=100*(pearsonr(l, l1)[0])**2\n",
        "print(r)"
      ],
      "metadata": {
        "id": "qkIJnqee88yi",
        "colab": {
          "base_uri": "https://localhost:8080/"
        },
        "outputId": "076c29fe-a61a-4423-9d47-5c7931c4262e"
      },
      "execution_count": 2,
      "outputs": [
        {
          "output_type": "stream",
          "name": "stdout",
          "text": [
            "2.9480793352748025 27.23618078286551\n",
            "84.99501459669904\n"
          ]
        }
      ]
    },
    {
      "cell_type": "code",
      "source": [
        "from math import log, exp, sqrt\n",
        "from scipy.stats import norm, pearsonr\n",
        "from statistics import mean, variance\n",
        "from random import gauss\n",
        "from numba import jit\n",
        "\n",
        "# < > ∈ o ∉ | λ\n",
        "#@jit(nopython=True)\n",
        "\n",
        "@jit(nopython=True)\n",
        "def bc(s0,k,r,o,t,ns):\n",
        "  l=[]\n",
        "  l1=[]\n",
        "  for i in range(ns):\n",
        "    sm=s0\n",
        "    sm1=s0\n",
        "    s=s0\n",
        "    for i in range(t):\n",
        "      s=s*exp((r - o**2/2) + o*gauss(0,1))\n",
        "      sm=sm+s\n",
        "      sm1=sm1*s\n",
        "    s=sm/(t+1)\n",
        "    s1=sm1**(1/(t+1))\n",
        "    if s>k:\n",
        "      l.append(exp(-r*t)*(s-k))\n",
        "    else:\n",
        "      l.append(0)\n",
        "    if s1>k:\n",
        "      l1.append(exp(-r*t)*(s1-k))\n",
        "    else:\n",
        "      l1. append(0)\n",
        "  return l, l1\n",
        "s0=100\n",
        "k=90\n",
        "t=10\n",
        "o=0.03\n",
        "r=0.0001\n",
        "ns=1000000\n",
        "l, l1=bc(s0,k,r,o,t,ns)\n",
        "m=mean(l)\n",
        "v=variance(l)\n",
        "m1=mean(l1)\n",
        "v1=variance(l1)\n",
        "\n",
        "r=100*(pearsonr(l, l1)[0])**2\n",
        "print(r)"
      ],
      "metadata": {
        "id": "_XX3XqDTQsz0",
        "outputId": "f5375a1f-6f18-4249-88cd-9886be7bf88d",
        "colab": {
          "base_uri": "https://localhost:8080/"
        }
      },
      "execution_count": 4,
      "outputs": [
        {
          "output_type": "stream",
          "name": "stdout",
          "text": [
            "99.98366888323713\n"
          ]
        }
      ]
    }
  ]
}