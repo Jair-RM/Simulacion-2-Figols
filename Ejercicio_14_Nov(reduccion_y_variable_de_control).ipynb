{
  "nbformat": 4,
  "nbformat_minor": 0,
  "metadata": {
    "colab": {
      "provenance": [],
      "authorship_tag": "ABX9TyNoav1y8HJ688/3VRqIFVJ1",
      "include_colab_link": true
    },
    "kernelspec": {
      "name": "python3",
      "display_name": "Python 3"
    },
    "language_info": {
      "name": "python"
    }
  },
  "cells": [
    {
      "cell_type": "markdown",
      "metadata": {
        "id": "view-in-github",
        "colab_type": "text"
      },
      "source": [
        "<a href=\"https://colab.research.google.com/github/Jair-RM/Simulacion-2-Figols/blob/main/Ejercicio_14_Nov(reduccion_y_variable_de_control).ipynb\" target=\"_parent\"><img src=\"https://colab.research.google.com/assets/colab-badge.svg\" alt=\"Open In Colab\"/></a>"
      ]
    },
    {
      "cell_type": "code",
      "execution_count": 6,
      "metadata": {
        "colab": {
          "base_uri": "https://localhost:8080/"
        },
        "id": "n3lpuzyi04jv",
        "outputId": "7e25764b-a21b-4957-a8aa-9b2c24a646c2"
      },
      "outputs": [
        {
          "output_type": "stream",
          "name": "stdout",
          "text": [
            "2.944868163769563\n",
            "2.944868163769563 4.220294299675192e-07 -99.9999856689873\n"
          ]
        }
      ],
      "source": [
        "from math import log, exp, sqrt\n",
        "from scipy.stats import norm\n",
        "from random import gauss\n",
        "from numba import jit\n",
        "\n",
        "# < > ∈ o ∉ | λ\n",
        "#@jit(nopython=True)\n",
        "\n",
        "def N(x):\n",
        "  return norm.cdf(x,0,1)\n",
        "def bc(s0, k,r,o,t):\n",
        "  d1=(log(s0/k)+(r+o**2/2)*t)/(o*sqrt(t))\n",
        "  d2=d1 - o*sqrt(t)\n",
        "  return s0*N(d1) - k*exp(-r*t)*N(d2)\n",
        "\n",
        "@jit(nopython=True)\n",
        "def bc_n(s0,k,r,o,t,ns):\n",
        "  suma=0\n",
        "  ns=10000000\n",
        "  for i in range(ns):\n",
        "    n=gauss(0,1)\n",
        "    s=s0*exp((r - o**2/2)*t + o*sqrt(t)*gauss(0,1))\n",
        "    if s>k:\n",
        "      suma=suma+s - k\n",
        "    sim=exp(-r*t)*suma/ns\n",
        "    return sim\n",
        "s0=100\n",
        "k=102\n",
        "t=10\n",
        "o=0.03\n",
        "r=0.0001\n",
        "b=bc(s0, k,r,o,t)\n",
        "print(b)\n",
        "ns=1000000\n",
        "sim=bc_n(s0,k,r,o,t,ns)\n",
        "print(b, sim, 100*(sim - b)/b)         # tercero, error porcentual"
      ]
    },
    {
      "cell_type": "code",
      "source": [],
      "metadata": {
        "id": "7_OZd5OX67NB"
      },
      "execution_count": null,
      "outputs": []
    },
    {
      "cell_type": "code",
      "source": [],
      "metadata": {
        "id": "qkIJnqee88yi"
      },
      "execution_count": null,
      "outputs": []
    }
  ]
}