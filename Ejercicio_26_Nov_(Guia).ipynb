{
  "nbformat": 4,
  "nbformat_minor": 0,
  "metadata": {
    "colab": {
      "provenance": [],
      "authorship_tag": "ABX9TyN1RQgDEH94Wq8+jriiM6HS",
      "include_colab_link": true
    },
    "kernelspec": {
      "name": "python3",
      "display_name": "Python 3"
    },
    "language_info": {
      "name": "python"
    }
  },
  "cells": [
    {
      "cell_type": "markdown",
      "metadata": {
        "id": "view-in-github",
        "colab_type": "text"
      },
      "source": [
        "<a href=\"https://colab.research.google.com/github/Jair-RM/Simulacion-2-Figols/blob/main/Ejercicio_26_Nov_(Guia).ipynb\" target=\"_parent\"><img src=\"https://colab.research.google.com/assets/colab-badge.svg\" alt=\"Open In Colab\"/></a>"
      ]
    },
    {
      "cell_type": "code",
      "source": [
        "# Ejercicio 7\n",
        "from random import gauss\n",
        "from math import exp, sqrt\n",
        "from statistics import mean, variance\n",
        "from scipy.stats import pearsonr\n",
        "from numpy import cov\n",
        "\n",
        "def precio(p0,u,o,t):\n",
        "  z=gauss(0,1)\n",
        "  return p0*exp((u - o**2/2)*t + o*sqrt(t)*z), z\n",
        "nr=100000\n",
        "u=0.001\n",
        "o=0.02\n",
        "p0=10\n",
        "t=30\n",
        "l=[]\n",
        "lz=[]\n",
        "for i in range(nr):\n",
        "  p,z=precio(p0,u,o,t)\n",
        "  l.append(p)\n",
        "  lz. append(z)\n",
        "\n",
        "m=mean(l)\n",
        "v=variance(l)\n",
        "print(m,v)\n",
        "r=pearsonr(l, lz)[0]\n",
        "por=100*r**2\n",
        "print(por)\n",
        "v1=v*(1 - por/100)\n",
        "print(v1)\n",
        "p_ver=p0*exp(u*t)\n",
        "print(p_ver)\n",
        "e1=100*(m - p_ver)/p_ver\n",
        "print(e1)\n",
        "co=cov(l,lz)\n",
        "print(co)\n",
        "cova=co[0,1]\n",
        "vy=co[1,1]\n",
        "c= - cova/vy\n",
        "print(c)\n",
        "ll=[]\n",
        "for i in range(nr):\n",
        "  ll. append(l[i]+c*lz[i])\n",
        "m1=mean(ll)\n",
        "print(m1)\n",
        "e2=100*(m1 - p_ver)/p_ver\n",
        "print(e2)"
      ],
      "metadata": {
        "colab": {
          "base_uri": "https://localhost:8080/"
        },
        "id": "ezftJvQAqEdc",
        "outputId": "1ff43d09-4146-45c7-c47d-ac2a08017eed"
      },
      "execution_count": 11,
      "outputs": [
        {
          "output_type": "stream",
          "name": "stdout",
          "text": [
            "10.308860453507439 1.28229823540519\n",
            "99.39887319520768\n",
            "0.007708238410399494\n",
            "10.304545339535169\n",
            "0.04187583081142098\n",
            "[[1.28229824 1.12849124]\n",
            " [1.12849124 0.99913893]]\n",
            "-1.1294637891105197\n",
            "10.30449638584554\n",
            "-0.0004750688945041256\n"
          ]
        }
      ]
    },
    {
      "cell_type": "code",
      "source": [
        "# EJercicio 5\n",
        "from random import gauss\n",
        "from scipy.stats import norm\n",
        "from statistics import mean, variance\n",
        "\n",
        "def I(x,y):\n",
        "  if x+y > 2:\n",
        "    return 1\n",
        "  else:\n",
        "    return 0\n",
        "\n",
        "nr=100000\n",
        "l=[]\n",
        "l1=[]\n",
        "for i in range(nr):\n",
        "  x=gauss(0,1)\n",
        "  y=gauss(1,1)\n",
        "  l. append(I(x,y))\n",
        "  q=2 - y\n",
        "  l1. append(1 - norm.cdf(q,0,1))\n",
        "m=mean(l)\n",
        "v=variance(l)\n",
        "print(m,v)\n",
        "m1=mean(l1)\n",
        "v1=variance(l1)\n",
        "print(m1,v1)\n",
        "print(100*(v - v1)/v)"
      ],
      "metadata": {
        "colab": {
          "base_uri": "https://localhost:8080/"
        },
        "id": "zGdQP224ukmF",
        "outputId": "7db76e8b-f475-4556-ac52-438097b964f0"
      },
      "execution_count": 14,
      "outputs": [
        {
          "output_type": "stream",
          "name": "stdout",
          "text": [
            "0.24029 0.18255254142541424\n",
            "0.24113885470616814 0.05628171343608597\n",
            "69.1695809893279\n"
          ]
        }
      ]
    },
    {
      "cell_type": "code",
      "source": [
        "# Ejercicio 8\n",
        "from math import sqrt, exp, log\n",
        "from random import random\n",
        "from statistics import mean, variance\n",
        "from scipy.stats import pearsonr\n",
        "\n",
        "def g(x):\n",
        "  return sqrt(x)\n",
        "l=[]\n",
        "l1=[]\n",
        "nr=100000\n",
        "for i in range(nr):\n",
        "  u=random()\n",
        "  x= - log(u)\n",
        "  x1= - log(1-u)\n",
        "  l. append(g(x))\n",
        "  l1. append((g(x)+g(x1))/2)\n",
        "m=mean(l)\n",
        "v=variance(l)\n",
        "print(m,v)\n",
        "m1=mean(l1)\n",
        "v1=variance(l1)\n",
        "print(m1,v1)\n",
        "print(100*(v - v1)/v)"
      ],
      "metadata": {
        "colab": {
          "base_uri": "https://localhost:8080/"
        },
        "id": "SMS6doJiyPIl",
        "outputId": "44af583c-e594-472c-ed19-0983b2c4bb5f"
      },
      "execution_count": 18,
      "outputs": [
        {
          "output_type": "stream",
          "name": "stdout",
          "text": [
            "0.8870013788021652 0.21618658198986765\n",
            "0.886548716151668 0.005680410341760459\n",
            "97.37245008942013\n"
          ]
        }
      ]
    },
    {
      "cell_type": "code",
      "source": [
        "# Ejercicio 8\n",
        "from math import sqrt, exp, log\n",
        "from random import random\n",
        "from statistics import mean, variance\n",
        "from scipy.stats import pearsonr\n",
        "\n",
        "def g(x):\n",
        "  return sqrt(x)\n",
        "l=[]\n",
        "l1=[]\n",
        "nr=100000\n",
        "for i in range(nr):\n",
        "  u=random()\n",
        "  x= - log(u)\n",
        "  l. append(g(x))\n",
        "  l1. append(x)\n",
        "m=mean(l)\n",
        "v=variance(l)\n",
        "print(m,v)\n",
        "r=pearsonr(l,l1)[0]\n",
        "por=100*r**2\n",
        "print(por)"
      ],
      "metadata": {
        "colab": {
          "base_uri": "https://localhost:8080/"
        },
        "id": "_VvMDnxC0V7-",
        "outputId": "ef84140c-66df-4e21-c5dd-4b20faa3895b"
      },
      "execution_count": 19,
      "outputs": [
        {
          "output_type": "stream",
          "name": "stdout",
          "text": [
            "0.8866075996778089 0.21630213817833635\n",
            "91.52216407538543\n"
          ]
        }
      ]
    }
  ]
}