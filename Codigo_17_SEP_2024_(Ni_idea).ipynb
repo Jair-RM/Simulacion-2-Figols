{
  "nbformat": 4,
  "nbformat_minor": 0,
  "metadata": {
    "colab": {
      "provenance": [],
      "authorship_tag": "ABX9TyPg3Jj81s9ekzfer4e/n7cD",
      "include_colab_link": true
    },
    "kernelspec": {
      "name": "python3",
      "display_name": "Python 3"
    },
    "language_info": {
      "name": "python"
    }
  },
  "cells": [
    {
      "cell_type": "markdown",
      "metadata": {
        "id": "view-in-github",
        "colab_type": "text"
      },
      "source": [
        "<a href=\"https://colab.research.google.com/github/Jair-RM/Simulacion-2-Figols/blob/main/Codigo_17_SEP_2024_(Ni_idea).ipynb\" target=\"_parent\"><img src=\"https://colab.research.google.com/assets/colab-badge.svg\" alt=\"Open In Colab\"/></a>"
      ]
    },
    {
      "cell_type": "code",
      "execution_count": 1,
      "metadata": {
        "id": "RWe5nWzxTUzo"
      },
      "outputs": [],
      "source": [
        "import math\n",
        "from math import log, exp, sqrt, cos, acos, pi, sin, factorial\n",
        "from statistics import mean, stdev\n",
        "from scipy.stats import norm\n",
        "import random as rnd\n",
        "from random import random, gauss\n",
        "import numpy as np\n",
        "import matplotlib.pyplot as plt\n",
        "from time import time\n",
        "#from numba import jit\n"
      ]
    },
    {
      "cell_type": "code",
      "source": [
        "def f(x, ly):\n",
        "  u=x[0]\n",
        "  o=x[1]\n",
        "  c=x[2]\n",
        "  suma=0\n",
        "  for i in range(len(ly) - 1):\n",
        "    media=ly[i]*exp(c) + u*(1-exp(c))\n",
        "    des=o*sqrt((1-exp(2*c)/(-2*c)))\n",
        "    p=norm.pdf(ly[i+1], media, des)\n",
        "    if p < le-300:\n",
        "      p=le-300\n",
        "    suma=suma + log(p)\n",
        "  t2=time()\n",
        "  print(\"%12.8f\"%u, \"%12.8f\"%o, \"%12.8f\"%c,\"%12.8f\"%suma,\"%8.4f\"%((t2-t)60))\n",
        "  return -suma\n",
        "\n",
        "t1= time()\n",
        "u0=11.50278\n",
        "o0=0.0052\n",
        "c0=0.57167\n",
        "file=\"tasas1.txt\"\n",
        "xx=np.loadtxt(file)\n",
        "N=len(xx)\n",
        "print(N)\n",
        "ly=[]\n",
        "for i in range(N):\n",
        "  ly.append(xx[t])\n",
        "print(N)\n",
        "x0= np.array([u0, o0, c0])\n",
        "re0=minimize(f, x0, args=(ly), methodd=\"Nelder-Mead\", options={\"xatol\": le-15. \"fatol\":})\n",
        "print(re0)\n",
        "t2=time()\n",
        "print(\"Tiempo \", (t2-t1)/60)"
      ],
      "metadata": {
        "id": "RHSdJ5C3VZe2"
      },
      "execution_count": null,
      "outputs": []
    }
  ]
}