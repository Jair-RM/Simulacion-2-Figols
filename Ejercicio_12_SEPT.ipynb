{
  "nbformat": 4,
  "nbformat_minor": 0,
  "metadata": {
    "colab": {
      "provenance": [],
      "authorship_tag": "ABX9TyPK4y+1eDW67OVoMOC74LQK",
      "include_colab_link": true
    },
    "kernelspec": {
      "name": "python3",
      "display_name": "Python 3"
    },
    "language_info": {
      "name": "python"
    }
  },
  "cells": [
    {
      "cell_type": "markdown",
      "metadata": {
        "id": "view-in-github",
        "colab_type": "text"
      },
      "source": [
        "<a href=\"https://colab.research.google.com/github/Jair-RM/Simulacion-2-Figols/blob/main/Ejercicio_12_SEPT.ipynb\" target=\"_parent\"><img src=\"https://colab.research.google.com/assets/colab-badge.svg\" alt=\"Open In Colab\"/></a>"
      ]
    },
    {
      "cell_type": "code",
      "execution_count": null,
      "metadata": {
        "id": "pLc9c8ammJ7k"
      },
      "outputs": [],
      "source": [
        "import math\n",
        "from math import factorial\n",
        "from math import log, exp, sqrt\n",
        "import random as rnd\n",
        "from random import random, gauss\n",
        "import numpy as np\n",
        "import matplotlib.pyplot as plt\n",
        "#from numba import jit\n",
        "from statistics import mean"
      ]
    },
    {
      "cell_type": "code",
      "source": [
        "def tryectoria(u, o, c, x0, T):\n",
        "  ly=[x0]\n",
        "  lt=[0]\n",
        "  i=1\n",
        "  for i in range(T):\n",
        "    x=ly[i]\n",
        "    desv=sqrt((1-1/exp(2))/2)\n",
        "    integral=c*gauss(0, desv)\n",
        "    x=exp(c)*(x+u*(exp(-c)-1)+o*integral)\n",
        "    ly.append(x)\n",
        "    lt.append(i+1)\n",
        "  return lt, ly\n",
        "u=10\n",
        "o=0.04\n",
        "c=0.5\n",
        "T=100\n",
        "x0=10\n",
        "for i in range(3):\n",
        "  lt, ly=trayectoria(u, o, c, x0, T)\n",
        "  plt.plot(lt, ly)\n",
        "plt.show()"
      ],
      "metadata": {
        "id": "0uq2vIOKnYGA"
      },
      "execution_count": null,
      "outputs": []
    }
  ]
}