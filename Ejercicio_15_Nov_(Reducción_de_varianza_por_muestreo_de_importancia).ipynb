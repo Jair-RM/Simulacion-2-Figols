{
  "nbformat": 4,
  "nbformat_minor": 0,
  "metadata": {
    "colab": {
      "provenance": [],
      "authorship_tag": "ABX9TyPhGOQ6Qm8gmwCbV3LH9AUU",
      "include_colab_link": true
    },
    "kernelspec": {
      "name": "python3",
      "display_name": "Python 3"
    },
    "language_info": {
      "name": "python"
    }
  },
  "cells": [
    {
      "cell_type": "markdown",
      "metadata": {
        "id": "view-in-github",
        "colab_type": "text"
      },
      "source": [
        "<a href=\"https://colab.research.google.com/github/Jair-RM/Simulacion-2-Figols/blob/main/Ejercicio_15_Nov_(Reducci%C3%B3n_de_varianza_por_muestreo_de_importancia).ipynb\" target=\"_parent\"><img src=\"https://colab.research.google.com/assets/colab-badge.svg\" alt=\"Open In Colab\"/></a>"
      ]
    },
    {
      "cell_type": "code",
      "execution_count": null,
      "metadata": {
        "id": "QnnTBejP0Nnk"
      },
      "outputs": [],
      "source": [
        "from random import gauss\n",
        "from statistics import mean, variance\n",
        "from scipy.stats import norm\n",
        "\n",
        "# < > ∈ o ∉ | λ\n",
        "#@jit(nopython=True)\n",
        "\n",
        "def I(z):\n",
        "  if z>=4:\n",
        "    return 1\n",
        "  else:\n",
        "    return 0\n",
        "\n",
        "l=[]\n",
        "nr=1000000\n",
        "for i in range(nr):\n",
        "  z=gauss(0,1)\n",
        "  l.append(I(z))\n",
        "m=mean(l)\n",
        "v=variance(l)\n",
        "print(m,v)\n",
        "mt=1-norm.cdf(4,0,1)\n",
        "print(mt, 100*abs(mt-m)/mt)"
      ]
    },
    {
      "cell_type": "code",
      "source": [
        "from random import gauss, random\n",
        "from statistics import mean, variance\n",
        "from scipy.stats import norm\n",
        "from math import exp, pi, sqrt, log\n",
        "\n",
        "# < > ∈ o ∉ | λ\n",
        "#@jit(nopython=True)\n",
        "\n",
        "def I(z):\n",
        "  if z>=4:\n",
        "    return 1\n",
        "  else:\n",
        "    return 0\n",
        "\n",
        "def h(z):\n",
        "  if z>=4:\n",
        "    return exp(4-z)\n",
        "  else:\n",
        "    return 0\n",
        "\n",
        "def phi(x):\n",
        "  return (1/sqrt(2*pi))*exp(-x**2/2)\n",
        "\n",
        "l=[]\n",
        "l1=[]\n",
        "nr=1000000\n",
        "for i in range(nr):\n",
        "  z=gauss(0,1)\n",
        "  l.append(I(z))\n",
        "  u=random()\n",
        "  z=4-log(u)\n",
        "  l1.append(I(z)*phi(z)/h(z))\n",
        "m=mean(l)\n",
        "v=variance(l)\n",
        "m1=mean(l1)\n",
        "v1=variance(l1)\n",
        "print(m,v)\n",
        "print(m1,v1)\n",
        "print(100*(v-v1)/v)\n",
        "mt=1-norm.cdf(4,0,1)\n",
        "print(mt, 100*abs(mt-m)/mt)\n",
        "print(mt, 100*abs(mt-m1)/mt)"
      ],
      "metadata": {
        "colab": {
          "base_uri": "https://localhost:8080/"
        },
        "id": "nZwzjxze0PDZ",
        "outputId": "d7b3998d-0096-4ff6-f16c-9167744dfb02"
      },
      "execution_count": 2,
      "outputs": [
        {
          "output_type": "stream",
          "name": "stdout",
          "text": [
            "2.8e-05 2.7999243999243998e-05\n",
            "3.170927325474028e-05 1.462406099511755e-09\n",
            "99.99477698005148\n",
            "3.167124183311998e-05 11.591720502985783\n",
            "3.167124183311998e-05 0.12008187686700657\n"
          ]
        }
      ]
    },
    {
      "cell_type": "code",
      "source": [
        "from random import gauss, random\n",
        "from statistics import mean, variance\n",
        "from scipy.stats import norm\n",
        "from math import exp, pi, sqrt, log\n",
        "from numba import jit\n",
        "\n",
        "# < > ∈ o ∉ | λ\n",
        "#@jit(nopython=True)\n",
        "\n",
        "@jit(nopython=True)\n",
        "def I(z):\n",
        "  if z>=4:\n",
        "    return 1\n",
        "  else:\n",
        "    return 0\n",
        "\n",
        "@jit(nopython=True)\n",
        "def h(z):\n",
        "  if z>=4:\n",
        "    return exp(4-z)\n",
        "  else:\n",
        "    return 0\n",
        "\n",
        "@jit(nopython=True)\n",
        "def phi(x):\n",
        "  return (1/sqrt(2*pi))*exp(-x**2/2)\n",
        "\n",
        "def f(nr):\n",
        "  suma=0\n",
        "  for i in range(nr):\n",
        "    u=random()\n",
        "    z=4-log(u)\n",
        "    suma=suma+(I(z)*phi(z)/h(z))\n",
        "  return suma/nr\n",
        "\n",
        "nr=10000000\n",
        "m1=f(nr)\n",
        "mt=1-norm.cdf(4,0,1)\n",
        "print(m1)\n",
        "print(mt, 100*abs(mt-m1)/mt)"
      ],
      "metadata": {
        "colab": {
          "base_uri": "https://localhost:8080/"
        },
        "id": "kio5WgC10Q92",
        "outputId": "c6d5f48e-7476-4f64-e189-738f5270647e"
      },
      "execution_count": 3,
      "outputs": [
        {
          "output_type": "stream",
          "name": "stdout",
          "text": [
            "3.1680272837573465e-05\n",
            "3.167124183311998e-05 0.028514841637951094\n"
          ]
        }
      ]
    }
  ]
}