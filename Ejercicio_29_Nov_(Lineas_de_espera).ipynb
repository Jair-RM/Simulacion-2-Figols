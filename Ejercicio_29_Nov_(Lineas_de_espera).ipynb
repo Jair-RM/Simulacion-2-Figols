{
  "nbformat": 4,
  "nbformat_minor": 0,
  "metadata": {
    "colab": {
      "provenance": [],
      "authorship_tag": "ABX9TyNKVg9+5ASt38PK2tyKVad+",
      "include_colab_link": true
    },
    "kernelspec": {
      "name": "python3",
      "display_name": "Python 3"
    },
    "language_info": {
      "name": "python"
    }
  },
  "cells": [
    {
      "cell_type": "markdown",
      "metadata": {
        "id": "view-in-github",
        "colab_type": "text"
      },
      "source": [
        "<a href=\"https://colab.research.google.com/github/Jair-RM/Simulacion-2-Figols/blob/main/Ejercicio_29_Nov_(Lineas_de_espera).ipynb\" target=\"_parent\"><img src=\"https://colab.research.google.com/assets/colab-badge.svg\" alt=\"Open In Colab\"/></a>"
      ]
    },
    {
      "cell_type": "markdown",
      "source": [
        "Simulacion de eventos discretos\n",
        "\n",
        "Sistema con varios estados.\n",
        "Los estados se caracterizan por el valor de una o mas variables.\n",
        "\n",
        "Eventos capaces de modificar el estado del sistema, osea, capaces de modificar el valor de las variables.\n",
        "\n",
        "\n",
        "** Lineas de espera de un solo servidor.\n",
        "\n",
        "El estado del sistema se especifica por el numero de personas en el mismo.\n",
        "\n",
        "Los eventos capaces de modificar el estado del sistema son la llegada de un usuario y la salida de un usuario atendido.\n",
        "\n",
        "Los usuarios llegan siguiendo un procesio de Poisson con parametro λ.\n",
        "\n",
        "Primero en llegar, primero en salir.\n",
        "\n",
        "El tiem po de atencion a cada usuario en el servidor sigue una dist. exponencial con parametro α"
      ],
      "metadata": {
        "id": "5mo4UCO2zRMM"
      }
    },
    {
      "cell_type": "code",
      "execution_count": 7,
      "metadata": {
        "id": "Xva1cUlLy4iK",
        "colab": {
          "base_uri": "https://localhost:8080/"
        },
        "outputId": "1aa99ca7-2bf2-481b-c561-aab8bcf16d03"
      },
      "outputs": [
        {
          "output_type": "stream",
          "name": "stdout",
          "text": [
            "     0.000 1\n",
            "                     1.121 0\n",
            "     2.051 1\n",
            "     2.498 2\n",
            "                     2.647 1\n",
            "                     3.734 0\n",
            "     5.226 1\n",
            "     5.775 2\n",
            "                     5.953 1\n",
            "     5.964 2\n",
            "                     6.193 1\n",
            "                     6.355 0\n",
            "     7.106 1\n",
            "     7.850 2\n",
            "     8.219 3\n",
            "                     9.091 2\n",
            "     9.120 3\n",
            "                     9.250 2\n",
            "                    10.017 1\n",
            "    10.247 2\n",
            "                    10.831 1\n",
            "                    11.682 0\n",
            "    11.954 1\n",
            "    12.210 2\n",
            "                    12.352 1\n",
            "                    12.722 0\n",
            "    14.900 1\n",
            "                    14.938 0\n",
            "    15.969 1\n",
            "                    16.735 0\n",
            "    18.863 1\n",
            "    19.025 2\n",
            "                    20.357 1\n",
            "    20.521 2\n",
            "                    20.536 1\n",
            "                    20.642 0\n",
            "    22.183 1\n",
            "    22.259 2\n",
            "    22.272 3\n",
            "                    22.782 2\n",
            "                    23.096 1\n",
            "                    23.809 0\n",
            "    25.909 1\n",
            "                    25.962 0\n",
            "    27.047 1\n",
            "    27.089 2\n",
            "                    27.122 1\n",
            "    27.150 2\n",
            "                    28.938 1\n",
            "                    29.082 0\n",
            "    29.514 1\n"
          ]
        }
      ],
      "source": [
        "from math import log\n",
        "from random import random\n",
        "\n",
        "T=30\n",
        "l_l=1               # apha - promedio tiempo de salida\n",
        "l_s=1.5             # lamnda - promedio de tiempo de llegada\n",
        "t=0\n",
        "infi=1000000000          # cualquier numero mayor al tiempo de simulacion\n",
        "ts=infi     # tiempor en el que ocurrira la prixima salida\n",
        "tl=0        # tiempor en el que ocurrira la prixima llegada\n",
        "l=0\n",
        "while min(tl,ts)<T:\n",
        "  t=min(tl,ts)\n",
        "  if t==tl:\n",
        "    l=l+1\n",
        "    print(\"%10.3f\"%tl, l)\n",
        "    tl=t-(1/l_l)*log(random())\n",
        "    if l==1:\n",
        "      ts=t-(1/l_s)*log(random())\n",
        "  else:\n",
        "    l=l-1\n",
        "    print(\"               \", \"%10.3f\"%ts, l)\n",
        "    if l==0:\n",
        "      ts=infi\n",
        "    else:\n",
        "      ts=t-(1/l_s)*log(random())"
      ]
    },
    {
      "cell_type": "code",
      "source": [
        "from math import log\n",
        "from random import random\n",
        "import matplotlib.pyplot as plt\n",
        "\n",
        "T=30\n",
        "l_l=1               # apha - promedio tiempo de salida\n",
        "l_s=1.5             # lamnda - promedio de tiempo de llegada\n",
        "t=0\n",
        "infi=1000000000          # cualquier numero mayor al tiempo de simulacion\n",
        "ts=infi     # tiempor en el que ocurrira la prixima salida\n",
        "tl=0        # tiempor en el que ocurrira la prixima llegada\n",
        "l=0\n",
        "lt=[]\n",
        "ll=[]\n",
        "while min(tl,ts)<T:\n",
        "  lt.append(t)       # lista del tiempo\n",
        "  ll.append(l)       # lista de valores\n",
        "  t=min(tl,ts)\n",
        "  lt.append(t)       # lista del tiempo modificado\n",
        "  ll.append(l)       ## lista de valores\n",
        "  if t==tl:\n",
        "    l=l+1\n",
        "    print(\"%10.3f\"%tl, l)\n",
        "    tl=t-(1/l_l)*log(random())\n",
        "    if l==1:\n",
        "      ts=t-(1/l_s)*log(random())\n",
        "  else:\n",
        "    l=l-1\n",
        "    print(\"               \", \"%10.3f\"%ts, l)\n",
        "    if l==0:\n",
        "      ts=infi\n",
        "    else:\n",
        "      ts=t-(1/l_s)*log(random())\n",
        "\n",
        "plt.plot(lt,ll)\n",
        "plt.show()"
      ],
      "metadata": {
        "colab": {
          "base_uri": "https://localhost:8080/",
          "height": 1000
        },
        "id": "yIu2vzgq_-as",
        "outputId": "4ae7054c-9273-420f-ea39-29c209b62012"
      },
      "execution_count": 8,
      "outputs": [
        {
          "output_type": "stream",
          "name": "stdout",
          "text": [
            "     0.000 1\n",
            "                     0.021 0\n",
            "     1.393 1\n",
            "                     2.861 0\n",
            "     3.007 1\n",
            "                     3.861 0\n",
            "     4.422 1\n",
            "                     4.943 0\n",
            "     5.190 1\n",
            "                     5.811 0\n",
            "     6.804 1\n",
            "                     6.851 0\n",
            "     7.466 1\n",
            "                     7.479 0\n",
            "     9.673 1\n",
            "     9.986 2\n",
            "    10.397 3\n",
            "                    10.445 2\n",
            "                    10.471 1\n",
            "    10.602 2\n",
            "                    11.242 1\n",
            "    11.302 2\n",
            "    11.579 3\n",
            "                    13.038 2\n",
            "                    13.249 1\n",
            "    13.377 2\n",
            "    13.972 3\n",
            "                    14.214 2\n",
            "    14.542 3\n",
            "                    14.718 2\n",
            "    14.733 3\n",
            "                    14.749 2\n",
            "                    15.460 1\n",
            "                    15.724 0\n",
            "    17.450 1\n",
            "                    18.076 0\n",
            "    18.321 1\n",
            "    18.412 2\n",
            "                    18.663 1\n",
            "                    19.138 0\n",
            "    20.737 1\n",
            "                    20.896 0\n",
            "    22.540 1\n",
            "    23.022 2\n",
            "    23.233 3\n",
            "                    23.423 2\n",
            "    23.569 3\n",
            "    25.853 4\n",
            "                    26.194 3\n",
            "                    26.454 2\n",
            "                    26.689 1\n",
            "    26.722 2\n",
            "                    26.981 1\n",
            "    27.682 2\n",
            "    27.938 3\n",
            "    27.966 4\n",
            "                    27.986 3\n",
            "                    28.309 2\n",
            "                    28.393 1\n",
            "                    28.970 0\n",
            "    29.320 1\n"
          ]
        },
        {
          "output_type": "display_data",
          "data": {
            "text/plain": [
              "<Figure size 640x480 with 1 Axes>"
            ],
            "image/png": "[encoded data removed]"
          },
          "metadata": {}
        }
      ]
    },
    {
      "cell_type": "code",
      "source": [
        "from math import log\n",
        "from random import random\n",
        "import matplotlib.pyplot as plt\n",
        "\n",
        "T=5                  # mejor visualizacion de la grafica\n",
        "l_l=1               # apha - promedio tiempo de salida\n",
        "l_s=1.5             # lamnda - promedio de tiempo de llegada\n",
        "t=0\n",
        "infi=1000000000          # cualquier numero mayor al tiempo de simulacion\n",
        "ts=infi     # tiempor en el que ocurrira la prixima salida\n",
        "tl=0        # tiempor en el que ocurrira la prixima llegada\n",
        "l=0\n",
        "lt=[]\n",
        "ll=[]\n",
        "while min(tl,ts)<T:\n",
        "  lt.append(t)       # lista del tiempo\n",
        "  ll.append(l)       # lista de valores\n",
        "  t=min(tl,ts)\n",
        "  lt.append(t)       # lista del tiempo modificado\n",
        "  ll.append(l)       ## lista de valores\n",
        "  if t==tl:\n",
        "    l=l+1\n",
        "    print(\"%10.3f\"%tl, l)\n",
        "    tl=t-(1/l_l)*log(random())\n",
        "    if l==1:\n",
        "      ts=t-(1/l_s)*log(random())\n",
        "  else:\n",
        "    l=l-1\n",
        "    print(\"               \", \"%10.3f\"%ts, l)\n",
        "    if l==0:\n",
        "      ts=infi\n",
        "    else:\n",
        "      ts=t-(1/l_s)*log(random())\n",
        "\n",
        "plt.plot(lt,ll)\n",
        "plt.show()"
      ],
      "metadata": {
        "colab": {
          "base_uri": "https://localhost:8080/",
          "height": 638
        },
        "id": "lvABwNCQCFv2",
        "outputId": "ab557e00-b6dc-4772-89c5-98a66e64bc94"
      },
      "execution_count": 20,
      "outputs": [
        {
          "output_type": "stream",
          "name": "stdout",
          "text": [
            "     0.000 1\n",
            "                     0.940 0\n",
            "     1.167 1\n",
            "     1.183 2\n",
            "     1.401 3\n",
            "                     1.764 2\n",
            "                     2.352 1\n",
            "     3.841 2\n",
            "                     3.972 1\n",
            "     4.104 2\n",
            "     4.523 3\n",
            "     4.723 4\n"
          ]
        },
        {
          "output_type": "display_data",
          "data": {
            "text/plain": [
              "<Figure size 640x480 with 1 Axes>"
            ],
            "image/png": "[encoded data removed]"
          },
          "metadata": {}
        }
      ]
    }
  ]
}