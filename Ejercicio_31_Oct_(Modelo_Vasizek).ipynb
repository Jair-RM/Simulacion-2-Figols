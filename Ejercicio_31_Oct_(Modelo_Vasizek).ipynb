{
  "nbformat": 4,
  "nbformat_minor": 0,
  "metadata": {
    "colab": {
      "provenance": [],
      "authorship_tag": "ABX9TyOO9+QD40qVFHmQCEDbwwzG",
      "include_colab_link": true
    },
    "kernelspec": {
      "name": "python3",
      "display_name": "Python 3"
    },
    "language_info": {
      "name": "python"
    }
  },
  "cells": [
    {
      "cell_type": "markdown",
      "metadata": {
        "id": "view-in-github",
        "colab_type": "text"
      },
      "source": [
        "<a href=\"https://colab.research.google.com/github/Jair-RM/Simulacion-2-Figols/blob/main/Ejercicio_31_Oct_(Modelo_Vasizek).ipynb\" target=\"_parent\"><img src=\"https://colab.research.google.com/assets/colab-badge.svg\" alt=\"Open In Colab\"/></a>"
      ]
    },
    {
      "cell_type": "code",
      "source": [
        "import math\n",
        "from math import log, exp, sqrt, cos, acos, pi, sin, factorial\n",
        "from statistics import mean, stdev, variance, median\n",
        "from scipy.stats import norm, linregress, kstest, gaussian_kde\n",
        "from scipy.optimize import minimize\n",
        "import random as rnd\n",
        "from random import random, gauss, seed\n",
        "import numpy as np\n",
        "from numpy import random\n",
        "import matplotlib.pyplot as plt\n",
        "from time import time\n",
        "from scipy.optimize import minimize\n",
        "from numba import jit\n",
        "\n",
        "from statsmodels.sandbox.stats import runs\n",
        "from scipy.stats import kstest, uniform\n",
        "from statsmodels.stats.diagnostic import acorr_ljungbox\n",
        "# < > ∈ o ∉ | λ\n",
        "#@jit(nopython=True)"
      ],
      "metadata": {
        "id": "1TQxbjA8xo01"
      },
      "execution_count": null,
      "outputs": []
    },
    {
      "cell_type": "markdown",
      "source": [
        "Modelo de Vasizek:\n",
        "\n",
        "dXt = c(xt - mu)dt + sigma*dWt\n",
        "\n",
        "mu_t= X0*eˆ(c*t) + mu(1 - eˆ(c*t))\n",
        "\n",
        "v_t= ((sigmaˆ2)/(-2*c))*(1 - eˆ(2*c*t))\n",
        "\n",
        ":\\\\\n",
        "c < 0"
      ],
      "metadata": {
        "id": "ogYg1tlvvY68"
      }
    },
    {
      "cell_type": "code",
      "execution_count": null,
      "metadata": {
        "id": "LLGxTxURvTUG"
      },
      "outputs": [],
      "source": [
        "import matplotlib.pyplot as plt\n",
        "from random import gauss\n",
        "from math import exp, sqrt\n",
        "\n",
        "def F(z, u, o, c):\n",
        "  return c*(z - u)\n",
        "def G(z, u, o, c):\n",
        "  return o\n",
        "def Gp(z, u, o, c):\n",
        "  return 0\n",
        "def trayectoria(n, x0, u, o, c, delta):\n",
        "  oo=sqrt(delta)\n",
        "  ly=[x0]\n",
        "  for i in range(n - 1):\n",
        "    t=0\n",
        "    z=ly[i]\n",
        "    while t menor 1:\n",
        "      w=oo*gauss()\n",
        "      z= z + F(z,u,o,c)*delta + G(z,u,o,c)*w + (1/2)*\n",
        "\n",
        "\n",
        "\n",
        "def med(t, x0, u, o, c):\n",
        "  return x0*exp(c*t) + u*(1 - exp(c*t))\n"
      ]
    }
  ]
}