{
  "nbformat": 4,
  "nbformat_minor": 0,
  "metadata": {
    "colab": {
      "provenance": [],
      "authorship_tag": "ABX9TyM9oYAYiFbzSpsrGWEL8Mky",
      "include_colab_link": true
    },
    "kernelspec": {
      "name": "python3",
      "display_name": "Python 3"
    },
    "language_info": {
      "name": "python"
    }
  },
  "cells": [
    {
      "cell_type": "markdown",
      "metadata": {
        "id": "view-in-github",
        "colab_type": "text"
      },
      "source": [
        "<a href=\"https://colab.research.google.com/github/Jair-RM/Simulacion-2-Figols/blob/main/Ejercicio_28_Nov_(guia).ipynb\" target=\"_parent\"><img src=\"https://colab.research.google.com/assets/colab-badge.svg\" alt=\"Open In Colab\"/></a>"
      ]
    },
    {
      "cell_type": "code",
      "execution_count": 4,
      "metadata": {
        "colab": {
          "base_uri": "https://localhost:8080/"
        },
        "id": "lqhzlUx48YqY",
        "outputId": "e81dc62f-7bea-4cca-99ba-16361a860f97"
      },
      "outputs": [
        {
          "output_type": "stream",
          "name": "stdout",
          "text": [
            "0.5303829411360178 3.266352804416146\n",
            "0.5353568390129795 1.519679068071718\n",
            "53.47474204203861\n"
          ]
        }
      ],
      "source": [
        "from random import gauss\n",
        "from statistics import mean, variance\n",
        "from math import exp, log\n",
        "# < > ∈ o ∉ | λ\n",
        "\n",
        "def g(x):\n",
        "  if x > log(2):\n",
        "    return exp(x) - 2\n",
        "  else:\n",
        "    return 0\n",
        "\n",
        "l=[]\n",
        "l1=[]\n",
        "nr=100000\n",
        "for i in range(nr):\n",
        "  x=gauss(0,1)\n",
        "  l. append(g(x))\n",
        "  l1. append((g(x)+g(-x))/2)\n",
        "m=mean(l)\n",
        "v=variance(l)\n",
        "print(m,v)\n",
        "m1=mean(l1)\n",
        "v1=variance(l1)\n",
        "print(m1,v1)\n",
        "print(100*(v- v1)/v)"
      ]
    },
    {
      "cell_type": "code",
      "source": [
        "# Ejercicio 4\n",
        "from random import gauss\n",
        "from statistics import mean, variance\n",
        "from math import exp, log\n",
        "from scipy.stats import pearsonr\n",
        "\n",
        "# < > ∈ o ∉ | λ\n",
        "\n",
        "def g(x):\n",
        "  if x > log(2):\n",
        "    return exp(x) - 2\n",
        "  else:\n",
        "    return 0\n",
        "\n",
        "def fc(x):\n",
        "  return g(x**2)\n",
        "\n",
        "l=[]\n",
        "l1=[]\n",
        "lc=[]\n",
        "nr=1000000\n",
        "for i in range(nr):\n",
        "  x=gauss(0,1)\n",
        "  l. append(g(x))\n",
        "  l1. append((g(x)+g(-x))/2)\n",
        "  lc. append(fc(x))\n",
        "m=mean(l)\n",
        "v=variance(l)\n",
        "print(m,v)\n",
        "m1=mean(l1)\n",
        "v1=variance(l1)\n",
        "print(m1,v1)\n",
        "print(100*(v- v1)/v)\n",
        "r=100*pearsonr(l, lc)[0]**2\n",
        "print(r)"
      ],
      "metadata": {
        "colab": {
          "base_uri": "https://localhost:8080/"
        },
        "id": "wDghij29-fNb",
        "outputId": "22995d84-cc4e-4e1e-c494-5376e13baa3f"
      },
      "execution_count": 10,
      "outputs": [
        {
          "output_type": "stream",
          "name": "stdout",
          "text": [
            "0.5352956530671872 3.29969958542537\n",
            "0.5341236790207015 1.4846382458740142\n",
            "55.00686630893318\n",
            "0.9321737845025444\n"
          ]
        }
      ]
    }
  ]
}