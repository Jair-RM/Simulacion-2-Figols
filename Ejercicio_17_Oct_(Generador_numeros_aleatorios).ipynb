{
  "nbformat": 4,
  "nbformat_minor": 0,
  "metadata": {
    "colab": {
      "provenance": [],
      "authorship_tag": "ABX9TyMZPZlEQL7+W433WPrhGLTR",
      "include_colab_link": true
    },
    "kernelspec": {
      "name": "python3",
      "display_name": "Python 3"
    },
    "language_info": {
      "name": "python"
    }
  },
  "cells": [
    {
      "cell_type": "markdown",
      "metadata": {
        "id": "view-in-github",
        "colab_type": "text"
      },
      "source": [
        "<a href=\"https://colab.research.google.com/github/Jair-RM/Simulacion-2-Figols/blob/main/Ejercicio_17_Oct_(Generador_numeros_aleatorios).ipynb\" target=\"_parent\"><img src=\"https://colab.research.google.com/assets/colab-badge.svg\" alt=\"Open In Colab\"/></a>"
      ]
    },
    {
      "cell_type": "code",
      "execution_count": 1,
      "metadata": {
        "id": "hfqZDXIaxYtl"
      },
      "outputs": [],
      "source": [
        "import math\n",
        "from math import log, exp, sqrt, cos, acos, pi, sin, factorial\n",
        "from statistics import mean, stdev, variance\n",
        "from scipy.stats import norm, linregress\n",
        "import random as rnd\n",
        "from random import random, gauss\n",
        "import numpy as np\n",
        "import matplotlib.pyplot as plt\n",
        "from time import time\n",
        "from scipy.optimize import minimize\n",
        "from numba import jit\n",
        "# < > ∈ o ∉ |\n",
        "#@jit(nopython=True)"
      ]
    },
    {
      "cell_type": "code",
      "source": [
        "def gen(xi,a, c, m):\n",
        "  return (a*xi + c)%m\n",
        "a=2171\n",
        "c=235\n",
        "m=47\n",
        "xi=32\n",
        "l=[xi]\n",
        "for i in range(100):\n",
        "  xi=gen(xi, a, c, m)\n",
        "  l. append(xi)\n",
        "print(l)"
      ],
      "metadata": {
        "colab": {
          "base_uri": "https://localhost:8080/"
        },
        "id": "bMINxhxJxaSU",
        "outputId": "959b5bc8-cb8b-4122-e2c1-1b5cb665ccf3"
      },
      "execution_count": 3,
      "outputs": [
        {
          "output_type": "stream",
          "name": "stdout",
          "text": [
            "[32, 6, 7, 16, 3, 27, 8, 25, 37, 4, 36, 42, 2, 18, 21, 1, 9, 34, 24, 28, 17, 12, 14, 32, 6, 7, 16, 3, 27, 8, 25, 37, 4, 36, 42, 2, 18, 21, 1, 9, 34, 24, 28, 17, 12, 14, 32, 6, 7, 16, 3, 27, 8, 25, 37, 4, 36, 42, 2, 18, 21, 1, 9, 34, 24, 28, 17, 12, 14, 32, 6, 7, 16, 3, 27, 8, 25, 37, 4, 36, 42, 2, 18, 21, 1, 9, 34, 24, 28, 17, 12, 14, 32, 6, 7, 16, 3, 27, 8, 25, 37]\n"
          ]
        }
      ]
    },
    {
      "cell_type": "code",
      "source": [
        "a=2171\n",
        "c=235\n",
        "m=47\n",
        "xi=32\n",
        "l=[]\n",
        "while xi not in l:\n",
        "  l. append(xi)\n",
        "  xi=gen(xi, a, c, m)\n",
        "print(l)\n",
        "print(len(l))"
      ],
      "metadata": {
        "colab": {
          "base_uri": "https://localhost:8080/"
        },
        "id": "pVtjNUmKyVgv",
        "outputId": "910a6f7b-909a-488e-8c28-35fe6bfe1c10"
      },
      "execution_count": 7,
      "outputs": [
        {
          "output_type": "stream",
          "name": "stdout",
          "text": [
            "[32, 6, 7, 16, 3, 27, 8, 25, 37, 4, 36, 42, 2, 18, 21, 1, 9, 34, 24, 28, 17, 12, 14]\n",
            "23\n"
          ]
        }
      ]
    },
    {
      "cell_type": "code",
      "source": [
        "a=2171\n",
        "c=235\n",
        "m=48\n",
        "xi=32\n",
        "l=[]\n",
        "while xi not in l:\n",
        "  l. append(xi)\n",
        "  xi=gen(xi, a, c, m)\n",
        "print(l)\n",
        "print(len(l))"
      ],
      "metadata": {
        "colab": {
          "base_uri": "https://localhost:8080/"
        },
        "id": "v4Tgwps00_zW",
        "outputId": "5e0c5da1-775f-48f5-a18f-8c2514db0290"
      },
      "execution_count": 8,
      "outputs": [
        {
          "output_type": "stream",
          "name": "stdout",
          "text": [
            "[32, 11, 20, 23, 8, 35, 44, 47]\n",
            "8\n"
          ]
        }
      ]
    },
    {
      "cell_type": "code",
      "source": [
        "a=1103515245\n",
        "c=12345\n",
        "m=2**31\n",
        "xi=32\n",
        "l=[]\n",
        "while xi not in l:\n",
        "  l. append(xi)\n",
        "  xi=gen(xi, a, c, m)\n",
        "print(l)\n",
        "print(len(l))"
      ],
      "metadata": {
        "id": "KYL2tWCx24gr"
      },
      "execution_count": null,
      "outputs": []
    },
    {
      "cell_type": "code",
      "source": [
        "(2**31 - 1)/(2**31)"
      ],
      "metadata": {
        "id": "Uf8AEXH74FZw"
      },
      "execution_count": null,
      "outputs": []
    },
    {
      "cell_type": "code",
      "source": [
        "a=1103515245\n",
        "c=12345\n",
        "m=2**31\n",
        "xi=32879431\n",
        "l=[]\n",
        "for i in range(200):\n",
        "  l. append(xi/2**31)\n",
        "  xi=gen(xi, a, c, m)\n",
        "print(l)\n",
        "print(len(l))"
      ],
      "metadata": {
        "id": "45U8DIaS4jOo"
      },
      "execution_count": null,
      "outputs": []
    }
  ]
}