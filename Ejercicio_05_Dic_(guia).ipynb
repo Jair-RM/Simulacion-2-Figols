{
  "nbformat": 4,
  "nbformat_minor": 0,
  "metadata": {
    "colab": {
      "provenance": [],
      "authorship_tag": "ABX9TyOgzcHZrVJ3U/H2mVnYHXmW",
      "include_colab_link": true
    },
    "kernelspec": {
      "name": "python3",
      "display_name": "Python 3"
    },
    "language_info": {
      "name": "python"
    }
  },
  "cells": [
    {
      "cell_type": "markdown",
      "metadata": {
        "id": "view-in-github",
        "colab_type": "text"
      },
      "source": [
        "<a href=\"https://colab.research.google.com/github/Jair-RM/Simulacion-2-Figols/blob/main/Ejercicio_05_Dic_(guia).ipynb\" target=\"_parent\"><img src=\"https://colab.research.google.com/assets/colab-badge.svg\" alt=\"Open In Colab\"/></a>"
      ]
    },
    {
      "cell_type": "code",
      "execution_count": 7,
      "metadata": {
        "colab": {
          "base_uri": "https://localhost:8080/"
        },
        "id": "ZM9tgLvS9vrn",
        "outputId": "00a387f7-bbc6-44c1-bdc4-5bbb73b87128"
      },
      "outputs": [
        {
          "output_type": "stream",
          "name": "stdout",
          "text": [
            "0.31566 0.2160209246092461\n",
            "0.3160554659776134 0.027994351486765844\n",
            "87.04090747810473\n",
            "0.316152439604664 0.13117605883360664\n",
            "39.276225638378705\n"
          ]
        }
      ],
      "source": [
        "# Ejercicio 6 guia\n",
        "from random import gauss, expovariate\n",
        "from statistics import mean, variance\n",
        "from scipy.stats import norm\n",
        "from math import exp\n",
        "# < > ∈ o ∉ | λ\n",
        "\n",
        "def I(x,y):\n",
        "  if x+y >1:\n",
        "    return 1\n",
        "  else:\n",
        "    return 0\n",
        "\n",
        "def EIY(y):\n",
        "  return 1 - norm.cdf(1 -y)\n",
        "\n",
        "def EIX(x):\n",
        "  if x<1:\n",
        "    return exp(-2*(1-x))\n",
        "  else:\n",
        "    return 1\n",
        "\n",
        "nr=100000\n",
        "l=[]\n",
        "l1=[]\n",
        "l2=[]\n",
        "for i in range(nr):\n",
        "  x=gauss(0,1)\n",
        "  y=expovariate(2)\n",
        "  l. append(I(x,y))\n",
        "  l1. append(EIY(y))\n",
        "  l2. append(EIX(x))\n",
        "\n",
        "m=mean(l)\n",
        "v=variance(l)\n",
        "print(m,v)\n",
        "m1=mean(l1)\n",
        "v1=variance(l1)\n",
        "print(m1,v1)\n",
        "print(100*(v - v1)/v)\n",
        "m2=mean(l2)\n",
        "v2=variance(l2)\n",
        "print(m2,v2)\n",
        "print(100*(v - v2)/v)"
      ]
    },
    {
      "cell_type": "code",
      "source": [
        "# Ejercicios 1 y 2 guia\n",
        "from random import gauss, random\n",
        "from statistics import mean, variance\n",
        "from math import exp, log\n",
        "from scipy.stats import pearsonr\n",
        "# < > ∈ o ∉ | λ\n",
        "\n",
        "def g(x):\n",
        "  if x>2:\n",
        "    return x -2\n",
        "  else:\n",
        "    return 0\n",
        "\n",
        "def h(x,a):\n",
        "  if x>2:\n",
        "    return a*exp(-a*(x -2))\n",
        "  else:\n",
        "    return 0\n",
        "\n",
        "def f(x):   # variable de control\n",
        "  return norm. pdf(x,0,1)\n",
        "\n",
        "\n",
        "a=1\n",
        "l=[]\n",
        "l1=[]\n",
        "nr=100000\n",
        "for i in range(nr):\n",
        "  x=gauss(0,1)\n",
        "  l. append(g(x))\n",
        "  x=2 -(1/a)*log(random())\n",
        "  l1. append((g(x)*f(x))/h(x,a))\n",
        "\n",
        "m=mean(l)\n",
        "v=variance(l)\n",
        "print(m,v)\n",
        "m1=mean(l1)\n",
        "v1=variance(l1)\n",
        "print(m1,v1)\n",
        "print(100*(v - v1)/v)"
      ],
      "metadata": {
        "colab": {
          "base_uri": "https://localhost:8080/"
        },
        "id": "TWW6jI19FNa0",
        "outputId": "88d7777a-902f-4953-c571-799680f33878"
      },
      "execution_count": 12,
      "outputs": [
        {
          "output_type": "stream",
          "name": "stdout",
          "text": [
            "0.008563823929312347 0.005737670617104204\n",
            "0.008494107256059867 2.6152104083934427e-05\n",
            "99.54420346114024\n"
          ]
        }
      ]
    },
    {
      "cell_type": "code",
      "source": [
        "from random import gauss, random\n",
        "from statistics import mean, variance\n",
        "from math import exp, log\n",
        "from scipy.stats import pearsonr\n",
        "# < > ∈ o ∉ | λ\n",
        "\n",
        "def g(x):\n",
        "  if x>2:\n",
        "    return x -2\n",
        "  else:\n",
        "    return 0\n",
        "\n",
        "def h(x,a):\n",
        "  if x>2:\n",
        "    return a*exp(-a*(x -2))\n",
        "  else:\n",
        "    return 0\n",
        "\n",
        "def f(x):   # variable de control\n",
        "  return norm. pdf(x,0,1)\n",
        "\n",
        "\n",
        "a=1\n",
        "l=[]\n",
        "l1=[]\n",
        "nr=100000\n",
        "for i in range(nr):\n",
        "  x=gauss(0,1)\n",
        "  l. append(g(x))\n",
        "  x=2 -(1/a)*log(random())\n",
        "  l1. append((g(x)*f(x))/h(x,a))\n",
        "\n",
        "m=mean(l)\n",
        "v=variance(l)\n",
        "print(m,v)\n",
        "m1=mean(l1)\n",
        "v1=variance(l1)\n",
        "print(m1,v1)\n",
        "print(100*(v - v1)/v)"
      ],
      "metadata": {
        "id": "pgCEaALKN9Ww"
      },
      "execution_count": null,
      "outputs": []
    }
  ]
}