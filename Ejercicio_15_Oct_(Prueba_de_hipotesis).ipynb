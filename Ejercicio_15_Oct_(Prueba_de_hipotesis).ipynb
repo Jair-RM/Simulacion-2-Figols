{
  "nbformat": 4,
  "nbformat_minor": 0,
  "metadata": {
    "colab": {
      "provenance": [],
      "authorship_tag": "ABX9TyMAFxFrehdZ6In18P/c/JHk",
      "include_colab_link": true
    },
    "kernelspec": {
      "name": "python3",
      "display_name": "Python 3"
    },
    "language_info": {
      "name": "python"
    }
  },
  "cells": [
    {
      "cell_type": "markdown",
      "metadata": {
        "id": "view-in-github",
        "colab_type": "text"
      },
      "source": [
        "<a href=\"https://colab.research.google.com/github/Jair-RM/Simulacion-2-Figols/blob/main/Ejercicio_15_Oct_(Prueba_de_hipotesis).ipynb\" target=\"_parent\"><img src=\"https://colab.research.google.com/assets/colab-badge.svg\" alt=\"Open In Colab\"/></a>"
      ]
    },
    {
      "cell_type": "code",
      "execution_count": 2,
      "metadata": {
        "colab": {
          "base_uri": "https://localhost:8080/"
        },
        "id": "7EIajwZrbMOz",
        "outputId": "df6ee8a4-9474-491d-e9f6-77a948607779"
      },
      "outputs": [
        {
          "output_type": "stream",
          "name": "stdout",
          "text": [
            "0.0019991382550443885\n"
          ]
        }
      ],
      "source": [
        "from scipy.stats import binom\n",
        "\n",
        "n=50\n",
        "p=0.5\n",
        "print(binom.pmf(35, n, p) )"
      ]
    },
    {
      "cell_type": "code",
      "source": [
        "from scipy.stats import binom\n",
        "\n",
        "n=50\n",
        "p=0.5\n",
        "for i in range(51):\n",
        "  print(i, 1-binom.cdf(i , n, p) )"
      ],
      "metadata": {
        "colab": {
          "base_uri": "https://localhost:8080/"
        },
        "id": "djMj7kmob8FC",
        "outputId": "d90baf4c-fbc2-4f56-9def-b5c437c1ebae"
      },
      "execution_count": null,
      "outputs": [
        {
          "output_type": "stream",
          "name": "stdout",
          "text": [
            "0 0.9999999999999991\n",
            "1 0.9999999999999547\n",
            "2 0.9999999999988667\n",
            "3 0.9999999999814584\n",
            "4 0.9999999997769109\n",
            "5 0.999999997895074\n",
            "6 0.9999999837812972\n",
            "7 0.9999998950661286\n",
            "8 0.9999994182220977\n",
            "9 0.9999971929499534\n",
            "10 0.9999880693341616\n",
            "11 0.9999548925494643\n",
            "12 0.9998470679991982\n",
            "13 0.9995318885445741\n",
            "14 0.9986989142716389\n",
            "15 0.9966997760165945\n",
            "16 0.992326661083685\n",
            "17 0.9835804312178658\n",
            "18 0.9675456764638639\n",
            "19 0.9405397737202819\n",
            "20 0.8986806244677297\n",
            "21 0.8388818398212265\n",
            "22 0.7600561691508361\n",
            "23 0.6640944831173172\n",
            "24 0.5561375863296085\n",
            "25 0.4438624136703915\n",
            "26 0.3359055168826828\n",
            "27 0.23994383084916393\n",
            "28 0.16111816017877345\n",
            "29 0.10131937553227033\n",
            "30 0.05946022627971814\n",
            "31 0.03245432353613609\n",
            "32 0.016419568782134242\n",
            "33 0.007673338916315053\n",
            "34 0.003300223983405459\n",
            "35 0.0013010857283610733\n",
            "36 0.0004681114554259125\n",
            "37 0.00015293200080179759\n",
            "38 4.5107450535653015e-05\n",
            "39 1.1930665838377763e-05\n",
            "40 2.8070500466270687e-06\n",
            "41 5.81777902297631e-07\n",
            "42 1.049338713698944e-07\n",
            "43 1.6218702825199216e-08\n",
            "44 2.104926011270436e-09\n",
            "45 2.2308910274659866e-10\n",
            "46 1.8541612689659814e-11\n",
            "47 1.1333156635373598e-12\n",
            "48 4.529709940470639e-14\n",
            "49 8.881784197001252e-16\n",
            "50 0.0\n"
          ]
        }
      ]
    },
    {
      "cell_type": "code",
      "source": [
        "suma=0\n",
        "for i in range(16, 35):\n",
        "  suma=suma + binom. pmf(i, n, p) ##pmf = probability mas funcion\n",
        "print(1 - suma)  ## P-value"
      ],
      "metadata": {
        "colab": {
          "base_uri": "https://localhost:8080/"
        },
        "id": "5GLcWFH8f-qb",
        "outputId": "4a8fdac5-6c62-4ec9-e67f-799f3fc81158"
      },
      "execution_count": null,
      "outputs": [
        {
          "output_type": "stream",
          "name": "stdout",
          "text": [
            "0.0066004479668113625\n"
          ]
        }
      ]
    },
    {
      "cell_type": "code",
      "source": [
        "import matplotlib.pyplot as plt\n",
        "def f(p):\n",
        "  suma=0\n",
        "  for i in range(18, 33):\n",
        "    suma= suma + binom.pmf(i, n, p)\n",
        "  return suma\n",
        "lp=[]\n",
        "pl=0.1\n",
        "while pl < 0.9:\n",
        "  lp.append(pl)\n",
        "  pl=pl + 0.1\n",
        "l=[]\n",
        "ll=[]\n",
        "for p in lp:\n",
        "  l.append(f(p))\n",
        "  ll. append(1 - f(p))\n",
        "plt.figure(figsize=(4, 3))\n",
        "plt.plot(lp, l, label=\"Error tipo II\")\n",
        "plt.plot(lp, ll, label=\"Potencia\")\n",
        "plt.legend()\n",
        "plt.plot(lp, l)\n",
        "plt.show()\n"
      ],
      "metadata": {
        "colab": {
          "base_uri": "https://localhost:8080/",
          "height": 291
        },
        "id": "N7199-Qni8g1",
        "outputId": "3df3fd79-f0c2-4dca-9c14-df01c74269f9"
      },
      "execution_count": 3,
      "outputs": [
        {
          "output_type": "display_data",
          "data": {
            "text/plain": [
              "<Figure size 400x300 with 1 Axes>"
            ],
            "image/png": "[encoded data removed]"
          },
          "metadata": {}
        }
      ]
    }
  ]
}