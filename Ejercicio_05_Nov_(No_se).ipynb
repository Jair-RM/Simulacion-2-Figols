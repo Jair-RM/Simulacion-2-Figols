{
  "nbformat": 4,
  "nbformat_minor": 0,
  "metadata": {
    "colab": {
      "provenance": [],
      "authorship_tag": "ABX9TyOjfX2s2WQ0vuteYEphO64g",
      "include_colab_link": true
    },
    "kernelspec": {
      "name": "python3",
      "display_name": "Python 3"
    },
    "language_info": {
      "name": "python"
    }
  },
  "cells": [
    {
      "cell_type": "markdown",
      "metadata": {
        "id": "view-in-github",
        "colab_type": "text"
      },
      "source": [
        "<a href=\"https://colab.research.google.com/github/Jair-RM/Simulacion-2-Figols/blob/main/Ejercicio_05_Nov_(No_se).ipynb\" target=\"_parent\"><img src=\"https://colab.research.google.com/assets/colab-badge.svg\" alt=\"Open In Colab\"/></a>"
      ]
    },
    {
      "cell_type": "code",
      "execution_count": null,
      "metadata": {
        "id": "BGPfRiYwf0A2"
      },
      "outputs": [],
      "source": [
        "import math\n",
        "from math import log, exp, sqrt, cos, acos, pi, sin, factorial\n",
        "from statistics import mean, stdev, variance, median\n",
        "from scipy.stats import norm, linregress, kstest, gaussian_kde\n",
        "from scipy.optimize import minimize\n",
        "import random as rnd\n",
        "from random import random, gauss, seed\n",
        "import numpy as np\n",
        "from numpy import random\n",
        "import matplotlib.pyplot as plt\n",
        "from time import time\n",
        "from scipy.optimize import minimize\n",
        "from numba import jit\n",
        "\n",
        "from statsmodels.sandbox.stats import runs\n",
        "from scipy.stats import kstest, uniform\n",
        "from statsmodels.stats.diagnostic import acorr_ljungbox\n",
        "# < > ∈ o ∉ | λ\n",
        "#@jit(nopython=True)"
      ]
    },
    {
      "cell_type": "code",
      "source": [
        "import numpy as np\n",
        "from time import time\n",
        "from numba import jit\n",
        "from random import random, gauss, seed\n",
        "\n",
        "@jit(nopython=True)\n",
        "def F(z,u,o,c):\n",
        "  return u*(z-u)\n",
        "\n",
        "@jit(nopython=True)\n",
        "def G(z,u,o,c):\n",
        "  return o*sqrt(z)\n",
        "\n",
        "@jit(nopython=True)\n",
        "def Gp(z,u,o,c):\n",
        "  return o/(2*sqrt(z))\n",
        "\n",
        "@jit(nopython=True)\n",
        "def F1(z,u,o,c,a):\n",
        "  return c*(z-u) + a*z**2\n",
        "\n",
        "@jit(nopython=True)\n",
        "def G1(z,u,o,c):\n",
        "  return o*sqrt(z)\n",
        "\n",
        "@jit(nopython=True)\n",
        "def Gp1(z,u,o,c):\n",
        "  return o/(2*sqrt(z))\n",
        "\n",
        "@jit(nopython=True)\n",
        "def K(x):\n",
        "  return (1/sqrt(2*pi))*exp(-x**2/2)\n",
        "\n",
        "def datos(n, u, o, c, delta, desplazamiento, indi, a):\n",
        "  if indi==1:\n",
        "    dat=np.loadtxt(\"tasas1.txt\")\n",
        "    ly=np.zeros(n)\n",
        "    for i in range(n):\n",
        "      ly[i]=dat[i + desplazamiento]\n",
        "  else:\n",
        "    ly=simula1(u,u,o,c,delta,n,a)\n",
        "  return ly\n",
        "\n",
        "@jit(nopython=True)\n",
        "def pdf(z,h,l):\n",
        "  m=len(l)\n",
        "  suma=0\n",
        "\n",
        "  #***************************\n",
        "\n",
        "\n",
        "\n",
        "@jit(nopython=True)\n",
        "def simula1(z0 u, o, c, delta, n, a):\n",
        "  oo=sqrt(delta)\n",
        "  ly=np. zeros(n)\n",
        "  ly[0]=z0\n",
        "  for i in range(n - 1):\n",
        "    z=ly[i]\n",
        "    t=0\n",
        "    while t < 1:\n",
        "      w=oo*gauss(0,1)\n",
        "      z=z+ F1(z, u, o, c, a)*delta + G(z, u, o, c)*w + (1/2)*G(z, u, o, c)*Gp(z, u, o, c)*(w**2 - delta)\n",
        "      t=t + delta\n",
        "    ly[i+1]=z\n",
        "  return ly\n",
        "\n",
        "@jit(nopython=True)\n",
        "def f(x, ly, delta, ns, semilla):\n",
        "  seed(semilla)\n",
        "\n",
        "\n"
      ],
      "metadata": {
        "id": "YOVOrkm2gjHf"
      },
      "execution_count": null,
      "outputs": []
    }
  ]
}