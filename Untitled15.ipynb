{
  "nbformat": 4,
  "nbformat_minor": 0,
  "metadata": {
    "colab": {
      "private_outputs": true,
      "provenance": [],
      "authorship_tag": "ABX9TyOttVYuWW0exU2ryAV+cxFM",
      "include_colab_link": true
    },
    "kernelspec": {
      "name": "python3",
      "display_name": "Python 3"
    },
    "language_info": {
      "name": "python"
    }
  },
  "cells": [
    {
      "cell_type": "markdown",
      "metadata": {
        "id": "view-in-github",
        "colab_type": "text"
      },
      "source": [
        "<a href=\"https://colab.research.google.com/github/Jair-RM/Simulacion-I-Figols/blob/main/Untitled15.ipynb\" target=\"_parent\"><img src=\"https://colab.research.google.com/assets/colab-badge.svg\" alt=\"Open In Colab\"/></a>"
      ]
    },
    {
      "cell_type": "code",
      "execution_count": null,
      "metadata": {
        "id": "KsHQ4NWvNGJL"
      },
      "outputs": [],
      "source": [
        "from random import gauss\n",
        "from math import sqrt\n",
        "import matplotlib.pyplot as plt"
      ]
    },
    {
      "cell_type": "code",
      "source": [
        "def (lx, delta):\n",
        "  ly=[0]\n",
        "  suma=0\n",
        "  for i in range(len(lx)):\n",
        "    ly.append(suma)\n",
        "    suma=suma+gauss(0, sqrt(delta))\n",
        "  return ly\n",
        "\n",
        "T=3\n",
        "lx=[]\n",
        "delta=0.0001\n",
        "x=0.05\n",
        "while x<T:\n",
        "  lx.append(x)\n",
        "  x=x+delta\n",
        "for j in range(3):\n",
        "  ly=f(lx, delta)\n",
        "  plt.plot(lx, ly)\n",
        "plt.show()"
      ],
      "metadata": {
        "id": "zoko4NzDNIIB"
      },
      "execution_count": null,
      "outputs": []
    }
  ]
}