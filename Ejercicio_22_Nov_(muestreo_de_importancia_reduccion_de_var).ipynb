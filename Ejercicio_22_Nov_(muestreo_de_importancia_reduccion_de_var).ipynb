{
  "nbformat": 4,
  "nbformat_minor": 0,
  "metadata": {
    "colab": {
      "provenance": [],
      "authorship_tag": "ABX9TyM2nGiZFBUec6o0b6Nd0WyH",
      "include_colab_link": true
    },
    "kernelspec": {
      "name": "python3",
      "display_name": "Python 3"
    },
    "language_info": {
      "name": "python"
    }
  },
  "cells": [
    {
      "cell_type": "markdown",
      "metadata": {
        "id": "view-in-github",
        "colab_type": "text"
      },
      "source": [
        "<a href=\"https://colab.research.google.com/github/Jair-RM/Simulacion-2-Figols/blob/main/Ejercicio_22_Nov_(muestreo_de_importancia_reduccion_de_var).ipynb\" target=\"_parent\"><img src=\"https://colab.research.google.com/assets/colab-badge.svg\" alt=\"Open In Colab\"/></a>"
      ]
    },
    {
      "cell_type": "markdown",
      "source": [
        "Usar el metodo de muestreo de importancia para reducir la varianza en el calculo de la integral\n",
        "\n",
        "$\\int_0^1 \\frac{dx}{1+x}$\n",
        "\n",
        "¿En que porcentaje se redujo la varianza?"
      ],
      "metadata": {
        "id": "zBOtwR-Xtny0"
      }
    },
    {
      "cell_type": "code",
      "source": [
        "from random import random\n",
        "from math import exp, log\n",
        "from statistics import mean, variance\n",
        "\n",
        "def f(z):\n",
        "  if z>0 and z<1:\n",
        "    return 1\n",
        "  else:\n",
        "    return 0\n",
        "\n",
        "def g(z):\n",
        "  if z>0 and z<1:\n",
        "    return 1/(z+1)\n",
        "  else:\n",
        "    return 0\n",
        "\n",
        "def h(z,a):\n",
        "  if z>0 and z<1:\n",
        "    return a*exp(-a*z)/(1-exp(-a))\n",
        "  else:\n",
        "    return 0\n",
        "\n",
        "l=[]\n",
        "l1=[]\n",
        "nr=100000\n",
        "a=0.7\n",
        "for i in range(nr):\n",
        "  u=random()\n",
        "  l.append(g(u))\n",
        "  z=(-1/a)*log(1-u*(1-exp(-a)))\n",
        "  #print(z, g(z), f(z), h(z,a), g(z)*f(z)/h(z,a))\n",
        "  l1.append(g(z)*f(z)/h(z,a))\n",
        "\n",
        "m=mean(l)\n",
        "v=variance(l)\n",
        "print(m,v,log(2))\n",
        "m1=mean(l1)\n",
        "v1=variance(l1)\n",
        "print(m1,v1,log(2))\n",
        "print(100*(v-v1)/v)"
      ],
      "metadata": {
        "colab": {
          "base_uri": "https://localhost:8080/"
        },
        "id": "zZ8v6rsGygtj",
        "outputId": "d602d587-62f0-4e16-8a5a-6df705994736"
      },
      "execution_count": 1,
      "outputs": [
        {
          "output_type": "stream",
          "name": "stdout",
          "text": [
            "0.6932722340472801 0.019576985695261735 0.6931471805599453\n",
            "0.6931693140701405 0.0001545731244670643 0.6931471805599453\n",
            "99.21043450266976\n"
          ]
        }
      ]
    }
  ]
}