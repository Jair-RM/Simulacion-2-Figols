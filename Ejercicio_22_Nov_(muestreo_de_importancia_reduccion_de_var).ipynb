{
  "nbformat": 4,
  "nbformat_minor": 0,
  "metadata": {
    "colab": {
      "provenance": [],
      "authorship_tag": "ABX9TyM0hMrJf7fSEeaagP4Zx2Og",
      "include_colab_link": true
    },
    "kernelspec": {
      "name": "python3",
      "display_name": "Python 3"
    },
    "language_info": {
      "name": "python"
    }
  },
  "cells": [
    {
      "cell_type": "markdown",
      "metadata": {
        "id": "view-in-github",
        "colab_type": "text"
      },
      "source": [
        "<a href=\"https://colab.research.google.com/github/Jair-RM/Simulacion-2-Figols/blob/main/Ejercicio_22_Nov_(muestreo_de_importancia_reduccion_de_var).ipynb\" target=\"_parent\"><img src=\"https://colab.research.google.com/assets/colab-badge.svg\" alt=\"Open In Colab\"/></a>"
      ]
    },
    {
      "cell_type": "code",
      "source": [
        "from random import expovariate\n",
        "from statistics import mean, variance\n",
        "from math import exp, pi, sqrt, log\n",
        "from scipy.stats import expon\n",
        "\n",
        "# Función que queremos integrar\n",
        "def funcion(x):\n",
        "    return 1 / (1 + x)\n",
        "\n",
        "# Función de densidad de probabilidad para la distribución exponencial\n",
        "def pdf_expon(x, lam=1):\n",
        "    return lam * exp(-lam * x)\n",
        "\n",
        "# Función para calcular la integral usando el método de muestreo por importancia\n",
        "def integral_importancia(nr):\n",
        "    suma = 0\n",
        "    suma_pesos = 0\n",
        "\n",
        "    for _ in range(nr):\n",
        "        # Muestras de la distribución exponencial\n",
        "        u = expovariate(1)  # Distribución exponencial con lambda = 1\n",
        "\n",
        "        # Calculamos la función objetivo y la densidad de la distribución de importancia\n",
        "        peso = funcion(u) / pdf_expon(u, 1)\n",
        "\n",
        "        # Sumamos el valor ponderado\n",
        "        suma += peso\n",
        "        suma_pesos += 1  # Solo acumulamos el número de muestras para la media\n",
        "\n",
        "    # Retornamos la estimación de la integral\n",
        "    return suma / suma_pesos\n",
        "\n",
        "# Número de muestras\n",
        "nr = 100000\n",
        "\n",
        "# Estimación de la integral por el método de muestreo por importancia\n",
        "resultado_importancia = integral_importancia(nr)\n",
        "\n",
        "# Valor exacto de la integral (calculado numéricamente o analíticamente)\n",
        "resultado_analitico = log(2)  # La integral de 0 a 1 de (1/(1+x)) dx es log(2)\n",
        "\n",
        "# Imprimimos los resultados\n",
        "print(\"Resultado por muestreo de importancia:\", resultado_importancia)\n",
        "print(\"Resultado exacto:\", resultado_analitico)\n",
        "\n",
        "# Calculamos la varianza y la reducción de la varianza\n",
        "# Estimación de la varianza sin muestreo de importancia\n",
        "varianza_sin_importancia = variance([funcion(x) for x in [i / nr for i in range(nr)]])\n",
        "# Estimación de la varianza con muestreo de importancia\n",
        "varianza_con_importancia = variance([funcion(expovariate(1)) for _ in range(nr)])\n",
        "\n",
        "# Porcentaje de reducción de la varianza\n",
        "reduccion_varianza = 100 * (varianza_sin_importancia - varianza_con_importancia) / varianza_sin_importancia\n",
        "print(f\"Porcentaje de reducción de la varianza: {reduccion_varianza:.2f}%\")\n"
      ],
      "metadata": {
        "colab": {
          "base_uri": "https://localhost:8080/"
        },
        "id": "gZH-AzWCvISj",
        "outputId": "aa5d4dc6-5759-4f35-f965-8a99cb8c7a1d"
      },
      "execution_count": 5,
      "outputs": [
        {
          "output_type": "stream",
          "name": "stdout",
          "text": [
            "Resultado por muestreo de importancia: 2.5306926674144576\n",
            "Resultado exacto: 0.6931471805599453\n",
            "Porcentaje de reducción de la varianza: -145.64%\n"
          ]
        }
      ]
    },
    {
      "cell_type": "markdown",
      "source": [
        "Usar el metodo de muestreo de importancia para reducir la varianza en el calculo de la integral\n",
        "\n",
        "$\\int_0^1 \\frac{dx}{1+x}$\n",
        "\n",
        "¿En que porcentaje se redujo la varianza?"
      ],
      "metadata": {
        "id": "zBOtwR-Xtny0"
      }
    },
    {
      "cell_type": "code",
      "source": [
        "from random import random\n",
        "from math import exp, log\n",
        "from statistics import mean, variance\n",
        "\n",
        "def f(z):\n",
        "  if z>0 and z<1:\n",
        "    return 1\n",
        "  else:\n",
        "    return 0\n",
        "\n",
        "def g(z):\n",
        "  if z>0 and z<1:\n",
        "    return 1/(z+1)\n",
        "  else:\n",
        "    return 0\n",
        "\n",
        "def h(z,a):\n",
        "  if z>0 and z<1:\n",
        "    return a*exp(-a*z)/(1-exp(-a))\n",
        "  else:\n",
        "    return 0\n",
        "\n",
        "l=[]\n",
        "l1=[]\n",
        "nr=1000\n",
        "a=1\n",
        "for i in range(nr):\n",
        "  u=random()\n",
        "  l.append(g(u))\n",
        "  z=(-1/a)*log(1-u*(1-exp(-a)))\n",
        "  #print(z, g(z), f(z), h(z,a), g(z)*f(z)/h(z,a))\n",
        "  l1.append(g(z)*f(z)/h(z,a))\n",
        "\n",
        "m=mean(l)\n",
        "v=variance(l)\n",
        "print(m,v,log(2))\n",
        "m1=mean(l1)\n",
        "v1=variance(l1)\n",
        "print(m1,v1,log(2))\n",
        "print(100*(v-v1)/v)"
      ],
      "metadata": {
        "colab": {
          "base_uri": "https://localhost:8080/"
        },
        "id": "zZ8v6rsGygtj",
        "outputId": "87e5f1cb-9e34-4f7d-e64f-313e62ba1e6f"
      },
      "execution_count": 9,
      "outputs": [
        {
          "output_type": "stream",
          "name": "stdout",
          "text": [
            "0.6889823992096105 0.019378461172594213 0.6931471805599453\n",
            "0.6943366908952452 0.0037913406286762563 0.6931471805599453\n",
            "80.4352853670439\n"
          ]
        }
      ]
    }
  ]
}